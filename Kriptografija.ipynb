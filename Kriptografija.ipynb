{
 "cells": [
  {
   "cell_type": "markdown",
   "metadata": {},
   "source": [
    "# Zgodovina\n",
    "\n",
    "Kaj poznajo - \n",
    "Zakaj?\n",
    "primeri kodov/kodiranja, kdo se je s tem ukvarjal, kakšno ime. \n",
    "\n",
    "Kriptografíja (grško kryptós - skrit in gráphein - pisati) je veda o matematičnih tehnikah za dosego informacijske varnosti, kot je zaupnost, celovitost podatkov, overjanje identitete in podatkov. \n",
    "\n",
    "Osnovno sporočilo po navadi imenujemo čistopis (angleško cleartext, plaintext), zašifrirano pa šifropis ali tajnopis (angleško ciphertext). \n",
    "\n",
    "Steganografija je veda, kjer gre za prikrivanje datoteke, sporočila, slike ali videa v drugo datoteko, sporočilo, sliko ali video. Beseda steganografija izhaja iz grških besed steganos (prikrit) in graphein (pisati), kar pomeni “zakrito pisanje”\n",
    "\n"
   ]
  },
  {
   "cell_type": "markdown",
   "metadata": {},
   "source": [
    "Moderna kriptografija je znanstvena veda, ki se ukvarja z odkrivanjem in preučevanjem računalniških algoritmov in protokolov za učinkovito zaščito informacij. Pri moderni kriptografiji ne gre za to, da bi napadalec moral poiskati algoritem s katerim je bila informacija zašifrirana, pač pa je predpostavka, da tega običajno pozna, manjka mu pa ključ oziroma geslo, s katerim lahko informacijo dešifrira.\n",
    "\n",
    "*Simetrična kriptografija*\n",
    "\n",
    "Simetrična enkripcija je edina javno poznana metoda šifriranja do leta 1976 ko so odkrili tudi nesimetrično kriptografijo poznano tudi pod imenom kriptografija javnega ključa. Pri simetrični kriptografiji gre za to, da se tako za šifriranje, kot dešifriranje uporablja enak ključ. Najbolj razširjen algoritem za simetrično šifriranje je AES. Gre za algoritem, ki ga je z javnim natečajem izbral ameriški Narodni urad za standarde in tehnologijo. Iskanje kandidata je potekalo približno 3 leta v več krogih in trenutno AES kljub nekaterim pomankljivostim velja v tako krogu kriptografov kot tudi seveda v širšem krogu uporabnikov še vedno kot primeren algoritem za zaščito informacij.\n",
    "\n",
    "*Kriptografija javnega ključa*\n",
    "\n",
    "Problem simetrične kriptografije je z izmenjavo kjučev. Da bi lahko z neko oddaljeno osebo izmenjevali zaupne informacije, bi si morali prej izmenjati kjuč prek varnega kanala - to pomeni osebno ali z zaupanja vrednim kurirjem. Ko bi na primer želeli izmenjati ključ z internetno stranjo, ki ji želimo sporočiti številko kreditne kartice za nakup prek interneta bi bil tak postopek gotovo zelo nepraktičen, če ne nemogoč.\n",
    "\n",
    "Pri kriptografiji javnega ključa ali nesimetrični kriptografiji, gre za to, da imamo dva različna ključa. Z enim ključem je mogoče sporočilo zašifrirati, z drugim ključem, pa je mogoče sporočilo dešifrirati. Razširjanje takšnih ključev tako je bistveno lažje. Uporabnik, ki želi prejemati zaščitene informacije ustvari dva ključa hkrati z uporabo računalnika. Enega izmed obeh ključev shrani zase kot zasebni ključ, drugi ključ pa je javen in ga lahko javno objavlja na primer internetni strani ali pa pošilja prek elektronske pošte. Tako lahko vsakdo, ki ima na voljo prejemnikov javni ključ zašifrira samo njemu namenjeno sporočilo, saj je prejemnik edini, ki ima zasebni ključ in s tem možnost dešifriranja. Čeprav je ustvarjanje obeh ključev hkrati za današnje računalnike skoraj hipen postopek iz enega ključa ni mogoče enostavno ugotoviti drugega in za to potreben napor je primerljiv naporu za iskanje zelo dolgih gesel, ki se uporabljajo v simetrični kriptografiji.\n",
    "\n",
    "*Digitalno podpisovanje*\n",
    "\n",
    "Ključa v kriptografiji javnega ključa sta dualna. To pomeni, da lahko opravimo postopek šifriranja tudi obratno. Z zasebnim ključem sporočilo zašifriramo z javnim pa ga odšifriramo. Če pošljemo skupaj s sporočilom tudi isto sporočilo zašifrirano z našim zasebnim ključem, se bo prejemnik lahko prepričal, da smo sporočilo zagotovo poslali samo mi, saj bo z našim javnim ključem lahko odšifriral sporočilo ki smo ga prej zašifrirali z našim zasebnim ključem.\n",
    "\n",
    "Naprimer, da želi Ana poslati Bogdanu neko sporočilo. Pri tem imata oba vsak svoj zasebni ključ in javni ključ od drug drugega. Ana uporabi svoj zasebni ključ, da zašifrira sporočilo. Sporočilu pripne svoje nezašifrirano sporočilo in vse skupaj zašifrira z Bogdanovim javnim ključem ter to pošlje Bogdanu. Bogdan oboje skupaj odšifrira s svojim zasebnim ključem. Poleg Aninega sporočila ima tudi zašifrirano sporočilo, ki se imenuje digitalni podpis in ko ga odklene z Aninim javnim ključem, se prepriča, da je sporočilo zares prišlo od Ane. Ne pozabimo, da je podpis potreben za to, ker bi sicer lahko vsak ki ima Bogdanov javni ključ, pošiljal zašifrirana sporočila.\n",
    "\n",
    "*Digitalna potrdila*\n",
    "\n",
    "Zgoraj opisani postopek ima še eno pomanjkljivost. V začetku je bila predpostavka ta, da imata Ana in Bogdan javna ključa od drug drugega, nikjer pa ni pisalo, kako sta si jih izmenjala. Kako naj Bogdan ve, da je javni ključ ki mu ga je prej poslala Ana na primer prek e-pošte res njen? Napadalec bi lahko prestregel izmenjavo javnih ključev in se tako na vsaki strani predstavil bodisi kakor Ana ali Bogdan in tako prestrezal zaupna sporočila. Za to skrbi overitelj digitalnih potrdil. V Sloveniji je za to zadolženo Ministrstvo za javno upravo in izdajajo SIGEN-CA [1] digitalna potrdila. Poleg SIGEN-CA je v sloveniji še nekaj izdajateljev digitalnih potrdil predvsem med bankami. Overovitelj s svojim certifikatom podpiše certifikat uporabnika in tako zagotavlja da lastnik zasebnega dela certifikata, ki ga je overovitelj digitalno podpisal, zares last tistega, ki je v njem označen. Uporabnik javnega certifikata pa mora tako pridobiti samo certifikat od overitelja. Certifikati overiteljev pristojnih za overjanje internetnih strani so vključeni v večino internetnih brskalnikov. Certifikat poleg ključev in podpisa vsebuje tudi ime in priimek lastnika in morebiten elektronski naslov, drugih osebnih podatkov, pa certifikat običajno ne vsebuje. "
   ]
  },
  {
   "cell_type": "markdown",
   "metadata": {},
   "source": [
    "### Cezarjeva šifra\n",
    "\n",
    "Sprogramiramo šifriranje/dešifriranje. Mogoče hands on de/šifrator?"
   ]
  },
  {
   "cell_type": "markdown",
   "metadata": {},
   "source": [
    "### Dešifriranje s frekvenčno analizo"
   ]
  },
  {
   "cell_type": "code",
   "execution_count": 5,
   "metadata": {},
   "outputs": [
    {
     "name": "stdout",
     "output_type": "stream",
     "text": [
      "ANA\n"
     ]
    }
   ],
   "source": [
    "tajnopis = 'DBD'\n",
    "#https://www.mtholyoke.edu/courses/quenell/s2003/ma139/js/count.html\n",
    "\n",
    "kljuc = {'A': '_', 'B': '_', 'C':'_', 'D':'_', 'E':'_', 'F':'_', 'G':'_', 'H':'_', 'I':'_', 'J':'_', 'K':'_', 'L':'_',\n",
    "        'M':'_', 'N':'_', 'O':'_', 'P':'_', 'R':'_', 'S':'_', 'T':'_', 'U':'_', 'V':'_', 'Z':'_', ' ': '_'}\n",
    "\n",
    "cistopis = ''\n",
    "for crka in tajnopis:\n",
    "    cistopis += kljuc[crka]\n",
    "    \n",
    "print(cistopis)\n",
    "    "
   ]
  },
  {
   "cell_type": "markdown",
   "metadata": {},
   "source": [
    "### Šifriranje s pomočjo ključa\n",
    "\n",
    "Šifriranje in dešifriranje"
   ]
  },
  {
   "cell_type": "code",
   "execution_count": null,
   "metadata": {},
   "outputs": [],
   "source": []
  },
  {
   "cell_type": "code",
   "execution_count": null,
   "metadata": {},
   "outputs": [],
   "source": []
  }
 ],
 "metadata": {
  "kernelspec": {
   "display_name": "Python 3",
   "language": "python",
   "name": "python3"
  },
  "language_info": {
   "codemirror_mode": {
    "name": "ipython",
    "version": 3
   },
   "file_extension": ".py",
   "mimetype": "text/x-python",
   "name": "python",
   "nbconvert_exporter": "python",
   "pygments_lexer": "ipython3",
   "version": "3.7.0"
  }
 },
 "nbformat": 4,
 "nbformat_minor": 2
}
