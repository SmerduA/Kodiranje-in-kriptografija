{
 "cells": [
  {
   "cell_type": "markdown",
   "metadata": {},
   "source": [
    "# Kriptografija\n"
   ]
  },
  {
   "cell_type": "markdown",
   "metadata": {},
   "source": [
    "Moderna kriptografija je znanstvena veda, ki se ukvarja z odkrivanjem in preučevanjem računalniških algoritmov in protokolov za učinkovito zaščito informacij. Pri moderni kriptografiji ne gre za to, da bi napadalec moral poiskati algoritem s katerim je bila informacija zašifrirana, pač pa je predpostavka, da tega običajno pozna, manjka mu pa ključ oziroma geslo, s katerim lahko informacijo dešifrira.\n",
    "\n",
    "*Simetrična kriptografija*\n",
    "\n",
    "Simetrična enkripcija je edina javno poznana metoda šifriranja do leta 1976 ko so odkrili tudi nesimetrično kriptografijo poznano tudi pod imenom kriptografija javnega ključa. Pri simetrični kriptografiji gre za to, da se tako za šifriranje, kot dešifriranje uporablja enak ključ. Najbolj razširjen algoritem za simetrično šifriranje je AES. Gre za algoritem, ki ga je z javnim natečajem izbral ameriški Narodni urad za standarde in tehnologijo. Iskanje kandidata je potekalo približno 3 leta v več krogih in trenutno AES kljub nekaterim pomankljivostim velja v tako krogu kriptografov kot tudi seveda v širšem krogu uporabnikov še vedno kot primeren algoritem za zaščito informacij.\n",
    "\n",
    "*Kriptografija javnega ključa*\n",
    "\n",
    "Problem simetrične kriptografije je z izmenjavo kjučev. Da bi lahko z neko oddaljeno osebo izmenjevali zaupne informacije, bi si morali prej izmenjati kjuč prek varnega kanala - to pomeni osebno ali z zaupanja vrednim kurirjem. Ko bi na primer želeli izmenjati ključ z internetno stranjo, ki ji želimo sporočiti številko kreditne kartice za nakup prek interneta bi bil tak postopek gotovo zelo nepraktičen, če ne nemogoč.\n",
    "\n",
    "Pri kriptografiji javnega ključa ali nesimetrični kriptografiji, gre za to, da imamo dva različna ključa. Z enim ključem je mogoče sporočilo zašifrirati, z drugim ključem, pa je mogoče sporočilo dešifrirati. Razširjanje takšnih ključev tako je bistveno lažje. Uporabnik, ki želi prejemati zaščitene informacije ustvari dva ključa hkrati z uporabo računalnika. Enega izmed obeh ključev shrani zase kot zasebni ključ, drugi ključ pa je javen in ga lahko javno objavlja na primer internetni strani ali pa pošilja prek elektronske pošte. Tako lahko vsakdo, ki ima na voljo prejemnikov javni ključ zašifrira samo njemu namenjeno sporočilo, saj je prejemnik edini, ki ima zasebni ključ in s tem možnost dešifriranja. Čeprav je ustvarjanje obeh ključev hkrati za današnje računalnike skoraj hipen postopek iz enega ključa ni mogoče enostavno ugotoviti drugega in za to potreben napor je primerljiv naporu za iskanje zelo dolgih gesel, ki se uporabljajo v simetrični kriptografiji.\n",
    "\n",
    "*Digitalno podpisovanje*\n",
    "\n",
    "Ključa v kriptografiji javnega ključa sta dualna. To pomeni, da lahko opravimo postopek šifriranja tudi obratno. Z zasebnim ključem sporočilo zašifriramo z javnim pa ga odšifriramo. Če pošljemo skupaj s sporočilom tudi isto sporočilo zašifrirano z našim zasebnim ključem, se bo prejemnik lahko prepričal, da smo sporočilo zagotovo poslali samo mi, saj bo z našim javnim ključem lahko odšifriral sporočilo ki smo ga prej zašifrirali z našim zasebnim ključem.\n",
    "\n",
    "Naprimer, da želi Ana poslati Bogdanu neko sporočilo. Pri tem imata oba vsak svoj zasebni ključ in javni ključ od drug drugega. Ana uporabi svoj zasebni ključ, da zašifrira sporočilo. Sporočilu pripne svoje nezašifrirano sporočilo in vse skupaj zašifrira z Bogdanovim javnim ključem ter to pošlje Bogdanu. Bogdan oboje skupaj odšifrira s svojim zasebnim ključem. Poleg Aninega sporočila ima tudi zašifrirano sporočilo, ki se imenuje digitalni podpis in ko ga odklene z Aninim javnim ključem, se prepriča, da je sporočilo zares prišlo od Ane. Ne pozabimo, da je podpis potreben za to, ker bi sicer lahko vsak ki ima Bogdanov javni ključ, pošiljal zašifrirana sporočila.\n",
    "\n",
    "*Digitalna potrdila*\n",
    "\n",
    "Zgoraj opisani postopek ima še eno pomanjkljivost. V začetku je bila predpostavka ta, da imata Ana in Bogdan javna ključa od drug drugega, nikjer pa ni pisalo, kako sta si jih izmenjala. Kako naj Bogdan ve, da je javni ključ ki mu ga je prej poslala Ana na primer prek e-pošte res njen? Napadalec bi lahko prestregel izmenjavo javnih ključev in se tako na vsaki strani predstavil bodisi kakor Ana ali Bogdan in tako prestrezal zaupna sporočila. Za to skrbi overitelj digitalnih potrdil. V Sloveniji je za to zadolženo Ministrstvo za javno upravo in izdajajo SIGEN-CA [1] digitalna potrdila. Poleg SIGEN-CA je v sloveniji še nekaj izdajateljev digitalnih potrdil predvsem med bankami. Overovitelj s svojim certifikatom podpiše certifikat uporabnika in tako zagotavlja da lastnik zasebnega dela certifikata, ki ga je overovitelj digitalno podpisal, zares last tistega, ki je v njem označen. Uporabnik javnega certifikata pa mora tako pridobiti samo certifikat od overitelja. Certifikati overiteljev pristojnih za overjanje internetnih strani so vključeni v večino internetnih brskalnikov. Certifikat poleg ključev in podpisa vsebuje tudi ime in priimek lastnika in morebiten elektronski naslov, drugih osebnih podatkov, pa certifikat običajno ne vsebuje. "
   ]
  },
  {
   "cell_type": "markdown",
   "metadata": {},
   "source": [
    "## Cezarjeva šifra\n",
    "\n",
    "Cezarjeva šifra je ena najbolj znanih in preprostih šifer ter najstarejša starorimska šifra.\n",
    "\n",
    "Samo šifro je razvil Cicerov osvobojeni suženj Tiron. Ker jo je veliko uporabljal Julij Cezar za šifriranje svojih sporočil, je znana kot Cezarjeva šifra.\n",
    "\n",
    "Za vsako črko šifrirni ključ določi drugo črko. Šifrirni ključ določa, za koliko mest se premakne tajna abeceda glede na običajno abecedo. Pošiljatelj in prejemnik sporočila morata uporabiti isto število zamenjave.\n",
    "\n",
    "Šifrirni ključ (premik za 3 mesta):\n",
    "\n",
    "          abeceda: A B C D E F G H I J K L M N O P R S T U V Z\n",
    "    tajna abeceda: D E F G H I J K L M N O P R S T U V Z A B C\n",
    "\n",
    "Običajni postopek je potekal tako, da je šifrant napisal izvirno sporočilo, nato črko za črko odprtega besedila spremenil v tajno abecedo in tako dobil šifrirano sporočilo, ki ga je nato poslal naprej. Prejemnik sporočila je nato ubral nasprotno pot. Šifrirano besedilo, ki ga je prejel, je nato dekodiral črko za črko s pomočjo šifrirnega ključa in na koncu je dobil izvirno sporočilo. "
   ]
  },
  {
   "cell_type": "code",
   "execution_count": 114,
   "metadata": {},
   "outputs": [
    {
     "name": "stdout",
     "output_type": "stream",
     "text": [
      "Čistopis : Besedilo, ki ga bomo dešifrirali na naiven način.\n",
      "Zamik : 8\n",
      "Tajnopis: IM.MLRTZFDŠRDOHDIZUZDLM,RN R HTRDVHDVHRBMVDVHKRVE\n"
     ]
    }
   ],
   "source": [
    "abeceda = 'ABCČDEFGHIJKLMNOPRSŠTUVZŽ .,-'\n",
    "\n",
    "def cezar_sifriranje(cistopis, kljuc):\n",
    "    sifrant = ''\n",
    "    for i in cistopis:\n",
    "        ind = (abeceda.index(i.upper())+kljuc)%len(abeceda)\n",
    "        sifrant+= abeceda[ind]\n",
    "    return sifrant\n",
    "\n",
    "cistopis = 'To besedilo bomo zašifrirali s Cezarjevo šifro. Ključ je štirinajst.'\n",
    "kljuc = 14\n",
    "\n",
    "tajnopis = cezar_sifriranje(cistopis, kljuc)\n",
    "\n",
    "print (\"Čistopis : \" + cistopis)\n",
    "print (\"Zamik : \" + str(kljuc))\n",
    "print (\"Tajnopis: \" + tajnopis)"
   ]
  },
  {
   "cell_type": "markdown",
   "metadata": {},
   "source": [
    "#### Naloga 0:\n",
    "Ali lahko zašifriramo tudi male tiskane črke? Zakaj je pa tajnopis zmeraj napisan z velikimi tiskanimi črkami?\n",
    "\n",
    "#### Naloga 1:\n",
    "Ali bi lahko zašifrirali tudi številke? Bi morali kaj v kodi spremeniti in kaj, če je to potrebno? Če ne poznaš odgovora najlažje preveriš, če za čistopis vzameš neko številko.\n",
    "\n",
    "#### Naloga 2:\n",
    "Napiši novo funkcijo `cezar_sifrirnje_2`, ki bo lahko zašifrirala tudi številke. Na nizu 'Piše se leto 2020.' preizkusi, če funkcija deluje.\n",
    "\n",
    "#### Naloga 3:\n",
    "Koliko različnih ključev ima funkcija `cezar_sifriranje` in koliko `cezar_sifriranje_2`?"
   ]
  },
  {
   "cell_type": "markdown",
   "metadata": {},
   "source": [
    "### Napad z izčrpnim iskanjem ključev\n",
    "\n",
    "aka bruteforce"
   ]
  },
  {
   "cell_type": "code",
   "execution_count": 115,
   "metadata": {},
   "outputs": [
    {
     "name": "stdout",
     "output_type": "stream",
     "text": [
      "Ključ je #0: IM.MLRTZFDŠRDOHDIZUZDLM,RN R HTRDVHDVHRBMVDVHKRVE\n",
      "Ključ je #1: HL LKPŠVEČSPČNGČHVTVČKL.PMŽPŽGŠPČUGČUGPALUČUGJPUD\n",
      "Ključ je #2: GKŽKJOSUDCROCMFCGUŠUCJK OLZOZFSOCTFCTFO-KTCTFIOTČ\n",
      "Ključ je #3: FJZJINRTČBPNBLEBFTSTBIJŽNKVNVERNBŠEBŠEN,JŠBŠEHNŠC\n",
      "Ključ je #4: EIVIHMPŠCAOMAKDAEŠRŠAHIZMJUMUDPMASDASDM.ISASDGMSB\n",
      "Ključ je #5: DHUHGLOSB-NL-JČ-DSPS-GHVLITLTČOL-RČ-RČL HR-RČFLRA\n",
      "Ključ je #6: ČGTGFKNRA,MK,IC,ČROR,FGUKHŠKŠCNK,PC,PCKŽGP,PCEKP-\n",
      "Ključ je #7: CFŠFEJMP-.LJ.HB.CPNP.EFTJGSJSBMJ.OB.OBJZFO.OBDJO,\n",
      "Ključ je #8: BESEDILO, KI GA BOMO DEŠIFRIRALI NA NAIVEN NAČIN.\n",
      "Ključ je #9: ADRDČHKN.ŽJHŽF-ŽANLNŽČDSHEPHP-KHŽM-ŽM-HUDMŽM-CHM \n",
      "Ključ je #10: -ČPČCGJM ZIGZE,Z-MKMZCČRGDOGO,JGZL,ZL,GTČLZL,BGLŽ\n",
      "Ključ je #11: ,COCBFILŽVHFVD.V,LJLVBCPFČNFN.IFVK.VK.FŠCKVK.AFKZ\n",
      "Ključ je #12: .BNBAEHKZUGEUČ U.KIKUABOECMEM HEUJ UJ ESBJUJ -EJV\n",
      "Ključ je #13:  AMA-DGJVTFDTCŽT JHJT-ANDBLDLŽGDTIŽTIŽDRAITIŽ,DIU\n",
      "Ključ je #14: Ž-L-,ČFIUŠEČŠBZŠŽIGIŠ,-MČAKČKZFČŠHZŠHZČP-HŠHZ.ČHT\n",
      "Ključ je #15: Z,K,.CEHTSDCSAVSZHFHS.,LC-JCJVECSGVSGVCO,GSGV CGŠ\n",
      "Ključ je #16: V.J. BDGŠRČBR-URVGEGR .KB,IBIUDBRFURFUBN.FRFUŽBFS\n",
      "Ključ je #17: U I ŽAČFSPCAP,TPUFDFPŽ JA.HAHTČAPETPETAM EPETZAER\n",
      "Ključ je #18: TŽHŽZ-CEROB-O.ŠOTEČEOZŽI- G-GŠC-ODŠODŠ-LŽDODŠV-DP\n",
      "Ključ je #19: ŠZGZV,BDPNA,N SNŠDCDNVZH,ŽF,FSB,NČSNČS,KZČNČSU,ČO\n",
      "Ključ je #20: SVFVU.AČOM-.MŽRMSČBČMUVG.ZE.ERA.MCRMCR.JVCMCRT.CN\n",
      "Ključ je #21: RUEUT -CNL, LZPLRCACLTUF VD DP- LBPLBP IUBLBPŠ BM\n",
      "Ključ je #22: PTDTŠŽ,BMK.ŽKVOKPB-BKŠTEŽUČŽČO,ŽKAOKAOŽHTAKAOSŽAL\n",
      "Ključ je #23: OŠČŠSZ.ALJ ZJUNJOA,AJSŠDZTCZCN.ZJ-NJ-NZGŠ-J-NRZ-K\n",
      "Ključ je #24: NSCSRV -KIŽVITMIN-.-IRSČVŠBVBM VI,MI,MVFS,I,MPV,J\n",
      "Ključ je #25: MRBRPUŽ,JHZUHŠLHM, ,HPRCUSAUALŽUH.LH.LUER.H.LOU.I\n",
      "Ključ je #26: LPAPOTZ.IGVTGSKGL.Ž.GOPBTR-T-KZTG KG KTDP G KNT H\n",
      "Ključ je #27: KO-ONŠV HFUŠFRJFK Z FNOAŠP,Š,JVŠFŽJFŽJŠČOŽFŽJMŠŽG\n",
      "Ključ je #28: JN,NMSUŽGETSEPIEJŽVŽEMN-SO.S.IUSEZIEZISCNZEZILSZF\n"
     ]
    }
   ],
   "source": [
    "#tajnopis = 'IM.MLRTZFDŠRDOHDIZUZDLM,RN R HTRDVHDVHRBMVDVHKRVE'\n",
    "\n",
    "for zamik in range(len(abeceda)):\n",
    "    odsifrirano = ''\n",
    "    for simbol in tajnopis:\n",
    "        if simbol in abeceda:\n",
    "            num = abeceda.find(simbol)\n",
    "            num = num - zamik\n",
    "            if num < 0:\n",
    "                num = num + len(abeceda)\n",
    "            odsifrirano = odsifrirano + abeceda[num]\n",
    "        else:\n",
    "            odsifrirano = odsifrirano + simbol\n",
    "    print('Ključ je #%s: %s' % (zamik, odsifrirano))"
   ]
  },
  {
   "cell_type": "markdown",
   "metadata": {},
   "source": [
    "#### Naloga 0:\n",
    "\n",
    "Kaj je v našem primeru čistopis in kaj je ključ?\n",
    "\n",
    "#### Naloga 1:\n",
    "\n",
    "Vsak naj zašifrira svoje besedilo s poljubnim ključem. Potem naj nam pove kaj je njegov tajnopis, ostali pa bomo poizkusili dešifrirati njegovo sporočilo in ugotoviti s katerim ključem ga je zašifriral.\n"
   ]
  },
  {
   "cell_type": "markdown",
   "metadata": {},
   "source": [
    "### Dešifriranje s frekvenčno analizo\n",
    "\n",
    "Frekvenčna analiza je primerna za daljše tekste, kjer pridejo do izraza specifike ponavljan določenih simbolov. V slovenščini se v besedilu poleg presledka največkrat pojavljajo samoglasniki *a, e, i in o* . Pogosti so tudi digrami *in, ja, ne, ki,...*. Vse to nam lahko pomaga pri dešifriranju tajnopisa."
   ]
  },
  {
   "cell_type": "code",
   "execution_count": 118,
   "metadata": {},
   "outputs": [
    {
     "name": "stdout",
     "output_type": "stream",
     "text": [
      "{'T': 26, 'K': 20, 'Š': 5, '\\n': 5, ',': 3, 'A': 50, 'I': 53, 'H': 3, 'N': 30, '-': 1, 'V': 10, 'P': 16, 'D': 11, 'J': 30, 'M': 16, 'C': 5, 'L': 16, 'G': 9, ' ': 69, 'U': 8, 'O': 45, 'S': 17, 'Z': 9, 'R': 34, 'Č': 7, 'B': 4, '.': 6, 'F': 9, 'E': 43} {'T': 12, 'K': 23, 'Š': 15, ',': 54, 'A': 40, 'H': 39, 'I': 18, 'N': 6, '-': 19, 'V': 109, 'P': 4, 'D': 22, 'J': 53, 'M': 154, 'C': 112, 'L': 8, 'G': 7, 'Ž': 18, ' ': 12, 'U': 35, 'O': 10, 'S': 19, 'Z': 2, 'Č': 113, 'R': 109, 'B': 35, '.': 93, 'F': 48, 'E': 66}\n"
     ]
    }
   ],
   "source": [
    "def frekvenca_simbolov(tajnopis):\n",
    "    return{i : tajnopis.count(i) for i in set(tajnopis)} \n",
    "\n",
    "besedilo = '''Študij kriptografije in kriptoanalize je kriptologija. Kriptografija se \n",
    "ukvarja s študijem in razvojem metod in metodologij za šifriranje, kjer se običajno uporabljajo skrivni \n",
    "ključi, s katerimi je mogoče dešifrirati šifrirano sporočilo ali informacijo. Kriptografija ne pomeni \n",
    "samo zagotavljanje informacijske varnosti, ampak tudi določene matematične tehnike za doseganje le-te. \n",
    "Kriptografija je nastala kot posledica komunikacije v prisotnosti nasprotnikov oz. tekmecev. Uporablja \n",
    "se za preprečevanje in odkrivanje zlorab in ostalih zlonamernih dejanj.'''\n",
    "\n",
    "tajnopis = 'FAČJVCF-RMČSJVGTVJRACČPJRECČFHCRMRŽVCŠ.,RMPMFČJRM,VMČFEVUC,RMŠ.J.ACRMČSJVGTVJRACČPJRECČFHCRMFAILSROMČSA.-ČJRCRMDČMBVUCREČUCVBMDE.KCRC,IMFRBČFHČ,CVM.CMFIJVEVCVMUELRJVMFAČJVC.,VNMBVUMC,VCVMHVBVA,CVMCRAČŽVMFČU.MUVAČJRC,VMDE.MKRGT.H.MCRŠ.ČCRAC. M.CHVEVFČJMCRMJRECČFHCVBOMDČA.H.TCVBM.CMŽČFDČUREF-VBMDČUEČT,IMČK.EČBRMKRŽČHRJA,RC,VMCRŠ.ČCRACVMJRECČFH.NMHVBIM,VMDE.ARŽČ,VCRMHIU.MČEŽRC.KRŠ.,F-RMFVFHRJRMRŽVCŠ.,VNMDČUEČT,VMUV,RJCČFH.M.CMDE.FHČ,CČFH.MRŽVCŠ.,VOMČSA.-VMFČUVAČJRC,RMKMUEIŽ.B.MUELRJC.B.MČEŽRC.MHVEMIJVA,RJA,VCVMČSA.-VMCRUKČERMCRUMC,VC.BMUVAČBMŠVAČJ.HČMKRČ-EČL.MCRŠ.ČCRACČMJRECČFHC.MDEČŽERBOM-.MŽRMFDEV,BVMUELRJC.MKSČENMRŽVCŠ.,RMČDERJA,RMFJČ,VMUVAČMDČUMCRUKČEČBMKR-ČCČUR,CVOMFČUCVM.CM.KJEG.ACVMJV,VMČSARFH.MHVEM,RJCČFH.OMJKDČFHRJA,VCVMDRM.BRMHIU.MCČHERC,VMCRUKČECVMBV RC.KBVOM-REM,VMKCRT.ACČFHMFČUČSCČMIEV,VC. MJRECČFHCČPČSJVGTVJRAC. MFAILSMJMUVBČ-ERH.TC. MUELRJR NMERKJČ,MRŽVCŠ.,VM,VMIFBVE,VCMJMČSA.-ČJRC,VMBČUVECVM.CMU.CRB.TCVMFAILSVOMJM-RHVE.M.BR,ČMDČBVBSCČMJAČŽČMIDČERSRMFČUČSC. M.CZČEBRŠ.,F-. M.CMRCRA.H.TC. MBVHČUMHVEMCR,FČUČSCV,GVM.CZČEBRŠ.,F-VMHV CČAČŽ.,VOMC,VC.MERKJČ,C.MČK.EČBRMFHERHVG-.MŠ.A,.MDRMFČMČSVCVBMIFBVE,VC.MJMFHEČ-ČJC.MERKJČ,MKRDČFAVC. OMERKJ.,RC,VMDE.BVECVMČEŽRC.KRŠ.,F-VM-IAHIEVMHVEMJMJRETCČM.CMŽČFDČURECČMIDČERSČMBRHVE.RAC. MJ.EČJN'\n",
    "\n",
    "\n",
    "frek_tajnopis = frekvenca_simbolov(tajnopis.upper())\n",
    "frek = frekvenca_simbolov(besedilo.upper())\n",
    "\n",
    "print(frek, frek_tajnopis)"
   ]
  },
  {
   "cell_type": "code",
   "execution_count": 94,
   "metadata": {},
   "outputs": [
    {
     "name": "stdout",
     "output_type": "stream",
     "text": [
      "['T', 'K', 'Š', ',', 'A', 'H', 'I', 'N', '-', 'V', 'P', 'D', 'J', 'M', 'C', 'L', 'G', 'Ž', ' ', 'U', 'O', 'S', 'Z', 'Č', 'R', 'B', '.', 'F', 'E'] [12, 23, 15, 54, 40, 39, 18, 6, 19, 109, 4, 22, 53, 154, 112, 8, 7, 18, 12, 35, 10, 19, 2, 113, 109, 35, 93, 48, 66]\n",
      "['T', 'K', 'Š', '\\n', ',', 'A', 'I', 'H', 'N', '-', 'V', 'P', 'D', 'J', 'M', 'C', 'L', 'G', ' ', 'U', 'O', 'S', 'Z', 'R', 'Č', 'B', '.', 'F', 'E'] [26, 20, 5, 5, 3, 50, 53, 3, 30, 1, 10, 16, 11, 30, 16, 5, 16, 9, 69, 8, 45, 17, 9, 34, 7, 4, 6, 9, 43]\n"
     ]
    }
   ],
   "source": [
    "x_t = list(frek_tajnopis.keys())\n",
    "y_t = list(frek_tajnopis.values())\n",
    "\n",
    "x = list(frek.keys())\n",
    "y = list(frek.values())\n",
    "\n",
    "print(x_t, y_t)\n",
    "print(x, y)"
   ]
  },
  {
   "cell_type": "code",
   "execution_count": 95,
   "metadata": {},
   "outputs": [
    {
     "data": {
      "application/vnd.plotly.v1+json": {
       "config": {
        "plotlyServerURL": "https://plot.ly"
       },
       "data": [
        {
         "marker": {
          "color": "indianred"
         },
         "name": "Frekvenca simbolov v tajnopisu",
         "type": "bar",
         "x": [
          "T",
          "K",
          "Š",
          ",",
          "A",
          "H",
          "I",
          "N",
          "-",
          "V",
          "P",
          "D",
          "J",
          "M",
          "C",
          "L",
          "G",
          "Ž",
          " ",
          "U",
          "O",
          "S",
          "Z",
          "Č",
          "R",
          "B",
          ".",
          "F",
          "E"
         ],
         "y": [
          12,
          23,
          15,
          54,
          40,
          39,
          18,
          6,
          19,
          109,
          4,
          22,
          53,
          154,
          112,
          8,
          7,
          18,
          12,
          35,
          10,
          19,
          2,
          113,
          109,
          35,
          93,
          48,
          66
         ]
        },
        {
         "marker": {
          "color": "lightsalmon"
         },
         "name": "Frekvenca simbolov navadnega teksta",
         "type": "bar",
         "x": [
          "T",
          "K",
          "Š",
          "\n",
          ",",
          "A",
          "I",
          "H",
          "N",
          "-",
          "V",
          "P",
          "D",
          "J",
          "M",
          "C",
          "L",
          "G",
          " ",
          "U",
          "O",
          "S",
          "Z",
          "R",
          "Č",
          "B",
          ".",
          "F",
          "E"
         ],
         "y": [
          26,
          20,
          5,
          5,
          3,
          50,
          53,
          3,
          30,
          1,
          10,
          16,
          11,
          30,
          16,
          5,
          16,
          9,
          69,
          8,
          45,
          17,
          9,
          34,
          7,
          4,
          6,
          9,
          43
         ]
        }
       ],
       "layout": {
        "barmode": "group",
        "template": {
         "data": {
          "bar": [
           {
            "error_x": {
             "color": "#2a3f5f"
            },
            "error_y": {
             "color": "#2a3f5f"
            },
            "marker": {
             "line": {
              "color": "#E5ECF6",
              "width": 0.5
             }
            },
            "type": "bar"
           }
          ],
          "barpolar": [
           {
            "marker": {
             "line": {
              "color": "#E5ECF6",
              "width": 0.5
             }
            },
            "type": "barpolar"
           }
          ],
          "carpet": [
           {
            "aaxis": {
             "endlinecolor": "#2a3f5f",
             "gridcolor": "white",
             "linecolor": "white",
             "minorgridcolor": "white",
             "startlinecolor": "#2a3f5f"
            },
            "baxis": {
             "endlinecolor": "#2a3f5f",
             "gridcolor": "white",
             "linecolor": "white",
             "minorgridcolor": "white",
             "startlinecolor": "#2a3f5f"
            },
            "type": "carpet"
           }
          ],
          "choropleth": [
           {
            "colorbar": {
             "outlinewidth": 0,
             "ticks": ""
            },
            "type": "choropleth"
           }
          ],
          "contour": [
           {
            "colorbar": {
             "outlinewidth": 0,
             "ticks": ""
            },
            "colorscale": [
             [
              0,
              "#0d0887"
             ],
             [
              0.1111111111111111,
              "#46039f"
             ],
             [
              0.2222222222222222,
              "#7201a8"
             ],
             [
              0.3333333333333333,
              "#9c179e"
             ],
             [
              0.4444444444444444,
              "#bd3786"
             ],
             [
              0.5555555555555556,
              "#d8576b"
             ],
             [
              0.6666666666666666,
              "#ed7953"
             ],
             [
              0.7777777777777778,
              "#fb9f3a"
             ],
             [
              0.8888888888888888,
              "#fdca26"
             ],
             [
              1,
              "#f0f921"
             ]
            ],
            "type": "contour"
           }
          ],
          "contourcarpet": [
           {
            "colorbar": {
             "outlinewidth": 0,
             "ticks": ""
            },
            "type": "contourcarpet"
           }
          ],
          "heatmap": [
           {
            "colorbar": {
             "outlinewidth": 0,
             "ticks": ""
            },
            "colorscale": [
             [
              0,
              "#0d0887"
             ],
             [
              0.1111111111111111,
              "#46039f"
             ],
             [
              0.2222222222222222,
              "#7201a8"
             ],
             [
              0.3333333333333333,
              "#9c179e"
             ],
             [
              0.4444444444444444,
              "#bd3786"
             ],
             [
              0.5555555555555556,
              "#d8576b"
             ],
             [
              0.6666666666666666,
              "#ed7953"
             ],
             [
              0.7777777777777778,
              "#fb9f3a"
             ],
             [
              0.8888888888888888,
              "#fdca26"
             ],
             [
              1,
              "#f0f921"
             ]
            ],
            "type": "heatmap"
           }
          ],
          "heatmapgl": [
           {
            "colorbar": {
             "outlinewidth": 0,
             "ticks": ""
            },
            "colorscale": [
             [
              0,
              "#0d0887"
             ],
             [
              0.1111111111111111,
              "#46039f"
             ],
             [
              0.2222222222222222,
              "#7201a8"
             ],
             [
              0.3333333333333333,
              "#9c179e"
             ],
             [
              0.4444444444444444,
              "#bd3786"
             ],
             [
              0.5555555555555556,
              "#d8576b"
             ],
             [
              0.6666666666666666,
              "#ed7953"
             ],
             [
              0.7777777777777778,
              "#fb9f3a"
             ],
             [
              0.8888888888888888,
              "#fdca26"
             ],
             [
              1,
              "#f0f921"
             ]
            ],
            "type": "heatmapgl"
           }
          ],
          "histogram": [
           {
            "marker": {
             "colorbar": {
              "outlinewidth": 0,
              "ticks": ""
             }
            },
            "type": "histogram"
           }
          ],
          "histogram2d": [
           {
            "colorbar": {
             "outlinewidth": 0,
             "ticks": ""
            },
            "colorscale": [
             [
              0,
              "#0d0887"
             ],
             [
              0.1111111111111111,
              "#46039f"
             ],
             [
              0.2222222222222222,
              "#7201a8"
             ],
             [
              0.3333333333333333,
              "#9c179e"
             ],
             [
              0.4444444444444444,
              "#bd3786"
             ],
             [
              0.5555555555555556,
              "#d8576b"
             ],
             [
              0.6666666666666666,
              "#ed7953"
             ],
             [
              0.7777777777777778,
              "#fb9f3a"
             ],
             [
              0.8888888888888888,
              "#fdca26"
             ],
             [
              1,
              "#f0f921"
             ]
            ],
            "type": "histogram2d"
           }
          ],
          "histogram2dcontour": [
           {
            "colorbar": {
             "outlinewidth": 0,
             "ticks": ""
            },
            "colorscale": [
             [
              0,
              "#0d0887"
             ],
             [
              0.1111111111111111,
              "#46039f"
             ],
             [
              0.2222222222222222,
              "#7201a8"
             ],
             [
              0.3333333333333333,
              "#9c179e"
             ],
             [
              0.4444444444444444,
              "#bd3786"
             ],
             [
              0.5555555555555556,
              "#d8576b"
             ],
             [
              0.6666666666666666,
              "#ed7953"
             ],
             [
              0.7777777777777778,
              "#fb9f3a"
             ],
             [
              0.8888888888888888,
              "#fdca26"
             ],
             [
              1,
              "#f0f921"
             ]
            ],
            "type": "histogram2dcontour"
           }
          ],
          "mesh3d": [
           {
            "colorbar": {
             "outlinewidth": 0,
             "ticks": ""
            },
            "type": "mesh3d"
           }
          ],
          "parcoords": [
           {
            "line": {
             "colorbar": {
              "outlinewidth": 0,
              "ticks": ""
             }
            },
            "type": "parcoords"
           }
          ],
          "pie": [
           {
            "automargin": true,
            "type": "pie"
           }
          ],
          "scatter": [
           {
            "marker": {
             "colorbar": {
              "outlinewidth": 0,
              "ticks": ""
             }
            },
            "type": "scatter"
           }
          ],
          "scatter3d": [
           {
            "line": {
             "colorbar": {
              "outlinewidth": 0,
              "ticks": ""
             }
            },
            "marker": {
             "colorbar": {
              "outlinewidth": 0,
              "ticks": ""
             }
            },
            "type": "scatter3d"
           }
          ],
          "scattercarpet": [
           {
            "marker": {
             "colorbar": {
              "outlinewidth": 0,
              "ticks": ""
             }
            },
            "type": "scattercarpet"
           }
          ],
          "scattergeo": [
           {
            "marker": {
             "colorbar": {
              "outlinewidth": 0,
              "ticks": ""
             }
            },
            "type": "scattergeo"
           }
          ],
          "scattergl": [
           {
            "marker": {
             "colorbar": {
              "outlinewidth": 0,
              "ticks": ""
             }
            },
            "type": "scattergl"
           }
          ],
          "scattermapbox": [
           {
            "marker": {
             "colorbar": {
              "outlinewidth": 0,
              "ticks": ""
             }
            },
            "type": "scattermapbox"
           }
          ],
          "scatterpolar": [
           {
            "marker": {
             "colorbar": {
              "outlinewidth": 0,
              "ticks": ""
             }
            },
            "type": "scatterpolar"
           }
          ],
          "scatterpolargl": [
           {
            "marker": {
             "colorbar": {
              "outlinewidth": 0,
              "ticks": ""
             }
            },
            "type": "scatterpolargl"
           }
          ],
          "scatterternary": [
           {
            "marker": {
             "colorbar": {
              "outlinewidth": 0,
              "ticks": ""
             }
            },
            "type": "scatterternary"
           }
          ],
          "surface": [
           {
            "colorbar": {
             "outlinewidth": 0,
             "ticks": ""
            },
            "colorscale": [
             [
              0,
              "#0d0887"
             ],
             [
              0.1111111111111111,
              "#46039f"
             ],
             [
              0.2222222222222222,
              "#7201a8"
             ],
             [
              0.3333333333333333,
              "#9c179e"
             ],
             [
              0.4444444444444444,
              "#bd3786"
             ],
             [
              0.5555555555555556,
              "#d8576b"
             ],
             [
              0.6666666666666666,
              "#ed7953"
             ],
             [
              0.7777777777777778,
              "#fb9f3a"
             ],
             [
              0.8888888888888888,
              "#fdca26"
             ],
             [
              1,
              "#f0f921"
             ]
            ],
            "type": "surface"
           }
          ],
          "table": [
           {
            "cells": {
             "fill": {
              "color": "#EBF0F8"
             },
             "line": {
              "color": "white"
             }
            },
            "header": {
             "fill": {
              "color": "#C8D4E3"
             },
             "line": {
              "color": "white"
             }
            },
            "type": "table"
           }
          ]
         },
         "layout": {
          "annotationdefaults": {
           "arrowcolor": "#2a3f5f",
           "arrowhead": 0,
           "arrowwidth": 1
          },
          "coloraxis": {
           "colorbar": {
            "outlinewidth": 0,
            "ticks": ""
           }
          },
          "colorscale": {
           "diverging": [
            [
             0,
             "#8e0152"
            ],
            [
             0.1,
             "#c51b7d"
            ],
            [
             0.2,
             "#de77ae"
            ],
            [
             0.3,
             "#f1b6da"
            ],
            [
             0.4,
             "#fde0ef"
            ],
            [
             0.5,
             "#f7f7f7"
            ],
            [
             0.6,
             "#e6f5d0"
            ],
            [
             0.7,
             "#b8e186"
            ],
            [
             0.8,
             "#7fbc41"
            ],
            [
             0.9,
             "#4d9221"
            ],
            [
             1,
             "#276419"
            ]
           ],
           "sequential": [
            [
             0,
             "#0d0887"
            ],
            [
             0.1111111111111111,
             "#46039f"
            ],
            [
             0.2222222222222222,
             "#7201a8"
            ],
            [
             0.3333333333333333,
             "#9c179e"
            ],
            [
             0.4444444444444444,
             "#bd3786"
            ],
            [
             0.5555555555555556,
             "#d8576b"
            ],
            [
             0.6666666666666666,
             "#ed7953"
            ],
            [
             0.7777777777777778,
             "#fb9f3a"
            ],
            [
             0.8888888888888888,
             "#fdca26"
            ],
            [
             1,
             "#f0f921"
            ]
           ],
           "sequentialminus": [
            [
             0,
             "#0d0887"
            ],
            [
             0.1111111111111111,
             "#46039f"
            ],
            [
             0.2222222222222222,
             "#7201a8"
            ],
            [
             0.3333333333333333,
             "#9c179e"
            ],
            [
             0.4444444444444444,
             "#bd3786"
            ],
            [
             0.5555555555555556,
             "#d8576b"
            ],
            [
             0.6666666666666666,
             "#ed7953"
            ],
            [
             0.7777777777777778,
             "#fb9f3a"
            ],
            [
             0.8888888888888888,
             "#fdca26"
            ],
            [
             1,
             "#f0f921"
            ]
           ]
          },
          "colorway": [
           "#636efa",
           "#EF553B",
           "#00cc96",
           "#ab63fa",
           "#FFA15A",
           "#19d3f3",
           "#FF6692",
           "#B6E880",
           "#FF97FF",
           "#FECB52"
          ],
          "font": {
           "color": "#2a3f5f"
          },
          "geo": {
           "bgcolor": "white",
           "lakecolor": "white",
           "landcolor": "#E5ECF6",
           "showlakes": true,
           "showland": true,
           "subunitcolor": "white"
          },
          "hoverlabel": {
           "align": "left"
          },
          "hovermode": "closest",
          "mapbox": {
           "style": "light"
          },
          "paper_bgcolor": "white",
          "plot_bgcolor": "#E5ECF6",
          "polar": {
           "angularaxis": {
            "gridcolor": "white",
            "linecolor": "white",
            "ticks": ""
           },
           "bgcolor": "#E5ECF6",
           "radialaxis": {
            "gridcolor": "white",
            "linecolor": "white",
            "ticks": ""
           }
          },
          "scene": {
           "xaxis": {
            "backgroundcolor": "#E5ECF6",
            "gridcolor": "white",
            "gridwidth": 2,
            "linecolor": "white",
            "showbackground": true,
            "ticks": "",
            "zerolinecolor": "white"
           },
           "yaxis": {
            "backgroundcolor": "#E5ECF6",
            "gridcolor": "white",
            "gridwidth": 2,
            "linecolor": "white",
            "showbackground": true,
            "ticks": "",
            "zerolinecolor": "white"
           },
           "zaxis": {
            "backgroundcolor": "#E5ECF6",
            "gridcolor": "white",
            "gridwidth": 2,
            "linecolor": "white",
            "showbackground": true,
            "ticks": "",
            "zerolinecolor": "white"
           }
          },
          "shapedefaults": {
           "line": {
            "color": "#2a3f5f"
           }
          },
          "ternary": {
           "aaxis": {
            "gridcolor": "white",
            "linecolor": "white",
            "ticks": ""
           },
           "baxis": {
            "gridcolor": "white",
            "linecolor": "white",
            "ticks": ""
           },
           "bgcolor": "#E5ECF6",
           "caxis": {
            "gridcolor": "white",
            "linecolor": "white",
            "ticks": ""
           }
          },
          "title": {
           "x": 0.05
          },
          "xaxis": {
           "automargin": true,
           "gridcolor": "white",
           "linecolor": "white",
           "ticks": "",
           "title": {
            "standoff": 15
           },
           "zerolinecolor": "white",
           "zerolinewidth": 2
          },
          "yaxis": {
           "automargin": true,
           "gridcolor": "white",
           "linecolor": "white",
           "ticks": "",
           "title": {
            "standoff": 15
           },
           "zerolinecolor": "white",
           "zerolinewidth": 2
          }
         }
        },
        "title": {
         "text": "Frekvenca simbolov"
        },
        "xaxis": {
         "title": {
          "text": "Simboli"
         }
        },
        "yaxis": {
         "title": {
          "text": "Število pojavitev"
         }
        }
       }
      },
      "text/html": [
       "<div>\n",
       "        \n",
       "        \n",
       "            <div id=\"5a774b43-9929-4742-98d8-08c169b66657\" class=\"plotly-graph-div\" style=\"height:525px; width:100%;\"></div>\n",
       "            <script type=\"text/javascript\">\n",
       "                require([\"plotly\"], function(Plotly) {\n",
       "                    window.PLOTLYENV=window.PLOTLYENV || {};\n",
       "                    \n",
       "                if (document.getElementById(\"5a774b43-9929-4742-98d8-08c169b66657\")) {\n",
       "                    Plotly.newPlot(\n",
       "                        '5a774b43-9929-4742-98d8-08c169b66657',\n",
       "                        [{\"marker\": {\"color\": \"indianred\"}, \"name\": \"Frekvenca simbolov v tajnopisu\", \"type\": \"bar\", \"x\": [\"T\", \"K\", \"\\u0160\", \",\", \"A\", \"H\", \"I\", \"N\", \"-\", \"V\", \"P\", \"D\", \"J\", \"M\", \"C\", \"L\", \"G\", \"\\u017d\", \" \", \"U\", \"O\", \"S\", \"Z\", \"\\u010c\", \"R\", \"B\", \".\", \"F\", \"E\"], \"y\": [12, 23, 15, 54, 40, 39, 18, 6, 19, 109, 4, 22, 53, 154, 112, 8, 7, 18, 12, 35, 10, 19, 2, 113, 109, 35, 93, 48, 66]}, {\"marker\": {\"color\": \"lightsalmon\"}, \"name\": \"Frekvenca simbolov navadnega teksta\", \"type\": \"bar\", \"x\": [\"T\", \"K\", \"\\u0160\", \"\\n\", \",\", \"A\", \"I\", \"H\", \"N\", \"-\", \"V\", \"P\", \"D\", \"J\", \"M\", \"C\", \"L\", \"G\", \" \", \"U\", \"O\", \"S\", \"Z\", \"R\", \"\\u010c\", \"B\", \".\", \"F\", \"E\"], \"y\": [26, 20, 5, 5, 3, 50, 53, 3, 30, 1, 10, 16, 11, 30, 16, 5, 16, 9, 69, 8, 45, 17, 9, 34, 7, 4, 6, 9, 43]}],\n",
       "                        {\"barmode\": \"group\", \"template\": {\"data\": {\"bar\": [{\"error_x\": {\"color\": \"#2a3f5f\"}, \"error_y\": {\"color\": \"#2a3f5f\"}, \"marker\": {\"line\": {\"color\": \"#E5ECF6\", \"width\": 0.5}}, \"type\": \"bar\"}], \"barpolar\": [{\"marker\": {\"line\": {\"color\": \"#E5ECF6\", \"width\": 0.5}}, \"type\": \"barpolar\"}], \"carpet\": [{\"aaxis\": {\"endlinecolor\": \"#2a3f5f\", \"gridcolor\": \"white\", \"linecolor\": \"white\", \"minorgridcolor\": \"white\", \"startlinecolor\": \"#2a3f5f\"}, \"baxis\": {\"endlinecolor\": \"#2a3f5f\", \"gridcolor\": \"white\", \"linecolor\": \"white\", \"minorgridcolor\": \"white\", \"startlinecolor\": \"#2a3f5f\"}, \"type\": \"carpet\"}], \"choropleth\": [{\"colorbar\": {\"outlinewidth\": 0, \"ticks\": \"\"}, \"type\": \"choropleth\"}], \"contour\": [{\"colorbar\": {\"outlinewidth\": 0, \"ticks\": \"\"}, \"colorscale\": [[0.0, \"#0d0887\"], [0.1111111111111111, \"#46039f\"], [0.2222222222222222, \"#7201a8\"], [0.3333333333333333, \"#9c179e\"], [0.4444444444444444, \"#bd3786\"], [0.5555555555555556, \"#d8576b\"], [0.6666666666666666, \"#ed7953\"], [0.7777777777777778, \"#fb9f3a\"], [0.8888888888888888, \"#fdca26\"], [1.0, \"#f0f921\"]], \"type\": \"contour\"}], \"contourcarpet\": [{\"colorbar\": {\"outlinewidth\": 0, \"ticks\": \"\"}, \"type\": \"contourcarpet\"}], \"heatmap\": [{\"colorbar\": {\"outlinewidth\": 0, \"ticks\": \"\"}, \"colorscale\": [[0.0, \"#0d0887\"], [0.1111111111111111, \"#46039f\"], [0.2222222222222222, \"#7201a8\"], [0.3333333333333333, \"#9c179e\"], [0.4444444444444444, \"#bd3786\"], [0.5555555555555556, \"#d8576b\"], [0.6666666666666666, \"#ed7953\"], [0.7777777777777778, \"#fb9f3a\"], [0.8888888888888888, \"#fdca26\"], [1.0, \"#f0f921\"]], \"type\": \"heatmap\"}], \"heatmapgl\": [{\"colorbar\": {\"outlinewidth\": 0, \"ticks\": \"\"}, \"colorscale\": [[0.0, \"#0d0887\"], [0.1111111111111111, \"#46039f\"], [0.2222222222222222, \"#7201a8\"], [0.3333333333333333, \"#9c179e\"], [0.4444444444444444, \"#bd3786\"], [0.5555555555555556, \"#d8576b\"], [0.6666666666666666, \"#ed7953\"], [0.7777777777777778, \"#fb9f3a\"], [0.8888888888888888, \"#fdca26\"], [1.0, \"#f0f921\"]], \"type\": \"heatmapgl\"}], \"histogram\": [{\"marker\": {\"colorbar\": {\"outlinewidth\": 0, \"ticks\": \"\"}}, \"type\": \"histogram\"}], \"histogram2d\": [{\"colorbar\": {\"outlinewidth\": 0, \"ticks\": \"\"}, \"colorscale\": [[0.0, \"#0d0887\"], [0.1111111111111111, \"#46039f\"], [0.2222222222222222, \"#7201a8\"], [0.3333333333333333, \"#9c179e\"], [0.4444444444444444, \"#bd3786\"], [0.5555555555555556, \"#d8576b\"], [0.6666666666666666, \"#ed7953\"], [0.7777777777777778, \"#fb9f3a\"], [0.8888888888888888, \"#fdca26\"], [1.0, \"#f0f921\"]], \"type\": \"histogram2d\"}], \"histogram2dcontour\": [{\"colorbar\": {\"outlinewidth\": 0, \"ticks\": \"\"}, \"colorscale\": [[0.0, \"#0d0887\"], [0.1111111111111111, \"#46039f\"], [0.2222222222222222, \"#7201a8\"], [0.3333333333333333, \"#9c179e\"], [0.4444444444444444, \"#bd3786\"], [0.5555555555555556, \"#d8576b\"], [0.6666666666666666, \"#ed7953\"], [0.7777777777777778, \"#fb9f3a\"], [0.8888888888888888, \"#fdca26\"], [1.0, \"#f0f921\"]], \"type\": \"histogram2dcontour\"}], \"mesh3d\": [{\"colorbar\": {\"outlinewidth\": 0, \"ticks\": \"\"}, \"type\": \"mesh3d\"}], \"parcoords\": [{\"line\": {\"colorbar\": {\"outlinewidth\": 0, \"ticks\": \"\"}}, \"type\": \"parcoords\"}], \"pie\": [{\"automargin\": true, \"type\": \"pie\"}], \"scatter\": [{\"marker\": {\"colorbar\": {\"outlinewidth\": 0, \"ticks\": \"\"}}, \"type\": \"scatter\"}], \"scatter3d\": [{\"line\": {\"colorbar\": {\"outlinewidth\": 0, \"ticks\": \"\"}}, \"marker\": {\"colorbar\": {\"outlinewidth\": 0, \"ticks\": \"\"}}, \"type\": \"scatter3d\"}], \"scattercarpet\": [{\"marker\": {\"colorbar\": {\"outlinewidth\": 0, \"ticks\": \"\"}}, \"type\": \"scattercarpet\"}], \"scattergeo\": [{\"marker\": {\"colorbar\": {\"outlinewidth\": 0, \"ticks\": \"\"}}, \"type\": \"scattergeo\"}], \"scattergl\": [{\"marker\": {\"colorbar\": {\"outlinewidth\": 0, \"ticks\": \"\"}}, \"type\": \"scattergl\"}], \"scattermapbox\": [{\"marker\": {\"colorbar\": {\"outlinewidth\": 0, \"ticks\": \"\"}}, \"type\": \"scattermapbox\"}], \"scatterpolar\": [{\"marker\": {\"colorbar\": {\"outlinewidth\": 0, \"ticks\": \"\"}}, \"type\": \"scatterpolar\"}], \"scatterpolargl\": [{\"marker\": {\"colorbar\": {\"outlinewidth\": 0, \"ticks\": \"\"}}, \"type\": \"scatterpolargl\"}], \"scatterternary\": [{\"marker\": {\"colorbar\": {\"outlinewidth\": 0, \"ticks\": \"\"}}, \"type\": \"scatterternary\"}], \"surface\": [{\"colorbar\": {\"outlinewidth\": 0, \"ticks\": \"\"}, \"colorscale\": [[0.0, \"#0d0887\"], [0.1111111111111111, \"#46039f\"], [0.2222222222222222, \"#7201a8\"], [0.3333333333333333, \"#9c179e\"], [0.4444444444444444, \"#bd3786\"], [0.5555555555555556, \"#d8576b\"], [0.6666666666666666, \"#ed7953\"], [0.7777777777777778, \"#fb9f3a\"], [0.8888888888888888, \"#fdca26\"], [1.0, \"#f0f921\"]], \"type\": \"surface\"}], \"table\": [{\"cells\": {\"fill\": {\"color\": \"#EBF0F8\"}, \"line\": {\"color\": \"white\"}}, \"header\": {\"fill\": {\"color\": \"#C8D4E3\"}, \"line\": {\"color\": \"white\"}}, \"type\": \"table\"}]}, \"layout\": {\"annotationdefaults\": {\"arrowcolor\": \"#2a3f5f\", \"arrowhead\": 0, \"arrowwidth\": 1}, \"coloraxis\": {\"colorbar\": {\"outlinewidth\": 0, \"ticks\": \"\"}}, \"colorscale\": {\"diverging\": [[0, \"#8e0152\"], [0.1, \"#c51b7d\"], [0.2, \"#de77ae\"], [0.3, \"#f1b6da\"], [0.4, \"#fde0ef\"], [0.5, \"#f7f7f7\"], [0.6, \"#e6f5d0\"], [0.7, \"#b8e186\"], [0.8, \"#7fbc41\"], [0.9, \"#4d9221\"], [1, \"#276419\"]], \"sequential\": [[0.0, \"#0d0887\"], [0.1111111111111111, \"#46039f\"], [0.2222222222222222, \"#7201a8\"], [0.3333333333333333, \"#9c179e\"], [0.4444444444444444, \"#bd3786\"], [0.5555555555555556, \"#d8576b\"], [0.6666666666666666, \"#ed7953\"], [0.7777777777777778, \"#fb9f3a\"], [0.8888888888888888, \"#fdca26\"], [1.0, \"#f0f921\"]], \"sequentialminus\": [[0.0, \"#0d0887\"], [0.1111111111111111, \"#46039f\"], [0.2222222222222222, \"#7201a8\"], [0.3333333333333333, \"#9c179e\"], [0.4444444444444444, \"#bd3786\"], [0.5555555555555556, \"#d8576b\"], [0.6666666666666666, \"#ed7953\"], [0.7777777777777778, \"#fb9f3a\"], [0.8888888888888888, \"#fdca26\"], [1.0, \"#f0f921\"]]}, \"colorway\": [\"#636efa\", \"#EF553B\", \"#00cc96\", \"#ab63fa\", \"#FFA15A\", \"#19d3f3\", \"#FF6692\", \"#B6E880\", \"#FF97FF\", \"#FECB52\"], \"font\": {\"color\": \"#2a3f5f\"}, \"geo\": {\"bgcolor\": \"white\", \"lakecolor\": \"white\", \"landcolor\": \"#E5ECF6\", \"showlakes\": true, \"showland\": true, \"subunitcolor\": \"white\"}, \"hoverlabel\": {\"align\": \"left\"}, \"hovermode\": \"closest\", \"mapbox\": {\"style\": \"light\"}, \"paper_bgcolor\": \"white\", \"plot_bgcolor\": \"#E5ECF6\", \"polar\": {\"angularaxis\": {\"gridcolor\": \"white\", \"linecolor\": \"white\", \"ticks\": \"\"}, \"bgcolor\": \"#E5ECF6\", \"radialaxis\": {\"gridcolor\": \"white\", \"linecolor\": \"white\", \"ticks\": \"\"}}, \"scene\": {\"xaxis\": {\"backgroundcolor\": \"#E5ECF6\", \"gridcolor\": \"white\", \"gridwidth\": 2, \"linecolor\": \"white\", \"showbackground\": true, \"ticks\": \"\", \"zerolinecolor\": \"white\"}, \"yaxis\": {\"backgroundcolor\": \"#E5ECF6\", \"gridcolor\": \"white\", \"gridwidth\": 2, \"linecolor\": \"white\", \"showbackground\": true, \"ticks\": \"\", \"zerolinecolor\": \"white\"}, \"zaxis\": {\"backgroundcolor\": \"#E5ECF6\", \"gridcolor\": \"white\", \"gridwidth\": 2, \"linecolor\": \"white\", \"showbackground\": true, \"ticks\": \"\", \"zerolinecolor\": \"white\"}}, \"shapedefaults\": {\"line\": {\"color\": \"#2a3f5f\"}}, \"ternary\": {\"aaxis\": {\"gridcolor\": \"white\", \"linecolor\": \"white\", \"ticks\": \"\"}, \"baxis\": {\"gridcolor\": \"white\", \"linecolor\": \"white\", \"ticks\": \"\"}, \"bgcolor\": \"#E5ECF6\", \"caxis\": {\"gridcolor\": \"white\", \"linecolor\": \"white\", \"ticks\": \"\"}}, \"title\": {\"x\": 0.05}, \"xaxis\": {\"automargin\": true, \"gridcolor\": \"white\", \"linecolor\": \"white\", \"ticks\": \"\", \"title\": {\"standoff\": 15}, \"zerolinecolor\": \"white\", \"zerolinewidth\": 2}, \"yaxis\": {\"automargin\": true, \"gridcolor\": \"white\", \"linecolor\": \"white\", \"ticks\": \"\", \"title\": {\"standoff\": 15}, \"zerolinecolor\": \"white\", \"zerolinewidth\": 2}}}, \"title\": {\"text\": \"Frekvenca simbolov\"}, \"xaxis\": {\"title\": {\"text\": \"Simboli\"}}, \"yaxis\": {\"title\": {\"text\": \"\\u0160tevilo pojavitev\"}}},\n",
       "                        {\"responsive\": true}\n",
       "                    ).then(function(){\n",
       "                            \n",
       "var gd = document.getElementById('5a774b43-9929-4742-98d8-08c169b66657');\n",
       "var x = new MutationObserver(function (mutations, observer) {{\n",
       "        var display = window.getComputedStyle(gd).display;\n",
       "        if (!display || display === 'none') {{\n",
       "            console.log([gd, 'removed!']);\n",
       "            Plotly.purge(gd);\n",
       "            observer.disconnect();\n",
       "        }}\n",
       "}});\n",
       "\n",
       "// Listen for the removal of the full notebook cells\n",
       "var notebookContainer = gd.closest('#notebook-container');\n",
       "if (notebookContainer) {{\n",
       "    x.observe(notebookContainer, {childList: true});\n",
       "}}\n",
       "\n",
       "// Listen for the clearing of the current output cell\n",
       "var outputEl = gd.closest('.output');\n",
       "if (outputEl) {{\n",
       "    x.observe(outputEl, {childList: true});\n",
       "}}\n",
       "\n",
       "                        })\n",
       "                };\n",
       "                });\n",
       "            </script>\n",
       "        </div>"
      ]
     },
     "metadata": {},
     "output_type": "display_data"
    }
   ],
   "source": [
    "import plotly.graph_objects as go\n",
    "\n",
    "\n",
    "fig = go.Figure()\n",
    "\n",
    "\n",
    "fig.add_trace(go.Bar(\n",
    "    x = x_t,\n",
    "    y = y_t,\n",
    "    name = 'Frekvenca simbolov v tajnopisu',\n",
    "    marker_color = 'indianred',\n",
    "))\n",
    "\n",
    "fig.add_trace(go.Bar(\n",
    "    x = x,\n",
    "    y = y,\n",
    "    name = 'Frekvenca simbolov navadnega teksta',\n",
    "    marker_color = 'lightsalmon',\n",
    "))\n",
    "\n",
    "fig.update_layout(title='Frekvenca simbolov',\n",
    "                   xaxis_title='Simboli',\n",
    "                   yaxis_title='Število pojavitev') \n",
    "fig.update_layout(barmode='group')\n",
    "fig.show()"
   ]
  },
  {
   "cell_type": "code",
   "execution_count": 96,
   "metadata": {},
   "outputs": [
    {
     "data": {
      "application/vnd.plotly.v1+json": {
       "config": {
        "plotlyServerURL": "https://plot.ly"
       },
       "data": [
        {
         "marker": {
          "color": "indianred"
         },
         "name": "Frekvenca simbolov v tajnopisu",
         "type": "bar",
         "x": [
          "T",
          "K",
          "Š",
          ",",
          "A",
          "H",
          "I",
          "N",
          "-",
          "V",
          "P",
          "D",
          "J",
          "M",
          "C",
          "L",
          "G",
          "Ž",
          " ",
          "U",
          "O",
          "S",
          "Z",
          "Č",
          "R",
          "B",
          ".",
          "F",
          "E"
         ],
         "y": [
          0.009561752988047808,
          0.018326693227091632,
          0.01195219123505976,
          0.04302788844621514,
          0.03187250996015936,
          0.031075697211155377,
          0.014342629482071713,
          0.004780876494023904,
          0.015139442231075698,
          0.08685258964143426,
          0.0031872509960159364,
          0.01752988047808765,
          0.04223107569721116,
          0.12270916334661354,
          0.08924302788844622,
          0.006374501992031873,
          0.005577689243027889,
          0.014342629482071713,
          0.009561752988047808,
          0.027888446215139442,
          0.00796812749003984,
          0.015139442231075698,
          0.0015936254980079682,
          0.0900398406374502,
          0.08685258964143426,
          0.027888446215139442,
          0.07410358565737052,
          0.03824701195219123,
          0.05258964143426295
         ]
        },
        {
         "marker": {
          "color": "lightsalmon"
         },
         "name": "Frekvenca simbolov navadnega teksta",
         "type": "bar",
         "x": [
          "T",
          "K",
          "Š",
          "\n",
          ",",
          "A",
          "I",
          "H",
          "N",
          "-",
          "V",
          "P",
          "D",
          "J",
          "M",
          "C",
          "L",
          "G",
          " ",
          "U",
          "O",
          "S",
          "Z",
          "R",
          "Č",
          "B",
          ".",
          "F",
          "E"
         ],
         "y": [
          0.04642857142857143,
          0.03571428571428571,
          0.008928571428571428,
          0.008928571428571428,
          0.005357142857142857,
          0.08928571428571429,
          0.09464285714285714,
          0.005357142857142857,
          0.05357142857142857,
          0.0017857142857142857,
          0.017857142857142856,
          0.02857142857142857,
          0.019642857142857142,
          0.05357142857142857,
          0.02857142857142857,
          0.008928571428571428,
          0.02857142857142857,
          0.01607142857142857,
          0.12321428571428572,
          0.014285714285714285,
          0.08035714285714286,
          0.030357142857142857,
          0.01607142857142857,
          0.060714285714285714,
          0.0125,
          0.007142857142857143,
          0.010714285714285714,
          0.01607142857142857,
          0.07678571428571429
         ]
        }
       ],
       "layout": {
        "barmode": "group",
        "template": {
         "data": {
          "bar": [
           {
            "error_x": {
             "color": "#2a3f5f"
            },
            "error_y": {
             "color": "#2a3f5f"
            },
            "marker": {
             "line": {
              "color": "#E5ECF6",
              "width": 0.5
             }
            },
            "type": "bar"
           }
          ],
          "barpolar": [
           {
            "marker": {
             "line": {
              "color": "#E5ECF6",
              "width": 0.5
             }
            },
            "type": "barpolar"
           }
          ],
          "carpet": [
           {
            "aaxis": {
             "endlinecolor": "#2a3f5f",
             "gridcolor": "white",
             "linecolor": "white",
             "minorgridcolor": "white",
             "startlinecolor": "#2a3f5f"
            },
            "baxis": {
             "endlinecolor": "#2a3f5f",
             "gridcolor": "white",
             "linecolor": "white",
             "minorgridcolor": "white",
             "startlinecolor": "#2a3f5f"
            },
            "type": "carpet"
           }
          ],
          "choropleth": [
           {
            "colorbar": {
             "outlinewidth": 0,
             "ticks": ""
            },
            "type": "choropleth"
           }
          ],
          "contour": [
           {
            "colorbar": {
             "outlinewidth": 0,
             "ticks": ""
            },
            "colorscale": [
             [
              0,
              "#0d0887"
             ],
             [
              0.1111111111111111,
              "#46039f"
             ],
             [
              0.2222222222222222,
              "#7201a8"
             ],
             [
              0.3333333333333333,
              "#9c179e"
             ],
             [
              0.4444444444444444,
              "#bd3786"
             ],
             [
              0.5555555555555556,
              "#d8576b"
             ],
             [
              0.6666666666666666,
              "#ed7953"
             ],
             [
              0.7777777777777778,
              "#fb9f3a"
             ],
             [
              0.8888888888888888,
              "#fdca26"
             ],
             [
              1,
              "#f0f921"
             ]
            ],
            "type": "contour"
           }
          ],
          "contourcarpet": [
           {
            "colorbar": {
             "outlinewidth": 0,
             "ticks": ""
            },
            "type": "contourcarpet"
           }
          ],
          "heatmap": [
           {
            "colorbar": {
             "outlinewidth": 0,
             "ticks": ""
            },
            "colorscale": [
             [
              0,
              "#0d0887"
             ],
             [
              0.1111111111111111,
              "#46039f"
             ],
             [
              0.2222222222222222,
              "#7201a8"
             ],
             [
              0.3333333333333333,
              "#9c179e"
             ],
             [
              0.4444444444444444,
              "#bd3786"
             ],
             [
              0.5555555555555556,
              "#d8576b"
             ],
             [
              0.6666666666666666,
              "#ed7953"
             ],
             [
              0.7777777777777778,
              "#fb9f3a"
             ],
             [
              0.8888888888888888,
              "#fdca26"
             ],
             [
              1,
              "#f0f921"
             ]
            ],
            "type": "heatmap"
           }
          ],
          "heatmapgl": [
           {
            "colorbar": {
             "outlinewidth": 0,
             "ticks": ""
            },
            "colorscale": [
             [
              0,
              "#0d0887"
             ],
             [
              0.1111111111111111,
              "#46039f"
             ],
             [
              0.2222222222222222,
              "#7201a8"
             ],
             [
              0.3333333333333333,
              "#9c179e"
             ],
             [
              0.4444444444444444,
              "#bd3786"
             ],
             [
              0.5555555555555556,
              "#d8576b"
             ],
             [
              0.6666666666666666,
              "#ed7953"
             ],
             [
              0.7777777777777778,
              "#fb9f3a"
             ],
             [
              0.8888888888888888,
              "#fdca26"
             ],
             [
              1,
              "#f0f921"
             ]
            ],
            "type": "heatmapgl"
           }
          ],
          "histogram": [
           {
            "marker": {
             "colorbar": {
              "outlinewidth": 0,
              "ticks": ""
             }
            },
            "type": "histogram"
           }
          ],
          "histogram2d": [
           {
            "colorbar": {
             "outlinewidth": 0,
             "ticks": ""
            },
            "colorscale": [
             [
              0,
              "#0d0887"
             ],
             [
              0.1111111111111111,
              "#46039f"
             ],
             [
              0.2222222222222222,
              "#7201a8"
             ],
             [
              0.3333333333333333,
              "#9c179e"
             ],
             [
              0.4444444444444444,
              "#bd3786"
             ],
             [
              0.5555555555555556,
              "#d8576b"
             ],
             [
              0.6666666666666666,
              "#ed7953"
             ],
             [
              0.7777777777777778,
              "#fb9f3a"
             ],
             [
              0.8888888888888888,
              "#fdca26"
             ],
             [
              1,
              "#f0f921"
             ]
            ],
            "type": "histogram2d"
           }
          ],
          "histogram2dcontour": [
           {
            "colorbar": {
             "outlinewidth": 0,
             "ticks": ""
            },
            "colorscale": [
             [
              0,
              "#0d0887"
             ],
             [
              0.1111111111111111,
              "#46039f"
             ],
             [
              0.2222222222222222,
              "#7201a8"
             ],
             [
              0.3333333333333333,
              "#9c179e"
             ],
             [
              0.4444444444444444,
              "#bd3786"
             ],
             [
              0.5555555555555556,
              "#d8576b"
             ],
             [
              0.6666666666666666,
              "#ed7953"
             ],
             [
              0.7777777777777778,
              "#fb9f3a"
             ],
             [
              0.8888888888888888,
              "#fdca26"
             ],
             [
              1,
              "#f0f921"
             ]
            ],
            "type": "histogram2dcontour"
           }
          ],
          "mesh3d": [
           {
            "colorbar": {
             "outlinewidth": 0,
             "ticks": ""
            },
            "type": "mesh3d"
           }
          ],
          "parcoords": [
           {
            "line": {
             "colorbar": {
              "outlinewidth": 0,
              "ticks": ""
             }
            },
            "type": "parcoords"
           }
          ],
          "pie": [
           {
            "automargin": true,
            "type": "pie"
           }
          ],
          "scatter": [
           {
            "marker": {
             "colorbar": {
              "outlinewidth": 0,
              "ticks": ""
             }
            },
            "type": "scatter"
           }
          ],
          "scatter3d": [
           {
            "line": {
             "colorbar": {
              "outlinewidth": 0,
              "ticks": ""
             }
            },
            "marker": {
             "colorbar": {
              "outlinewidth": 0,
              "ticks": ""
             }
            },
            "type": "scatter3d"
           }
          ],
          "scattercarpet": [
           {
            "marker": {
             "colorbar": {
              "outlinewidth": 0,
              "ticks": ""
             }
            },
            "type": "scattercarpet"
           }
          ],
          "scattergeo": [
           {
            "marker": {
             "colorbar": {
              "outlinewidth": 0,
              "ticks": ""
             }
            },
            "type": "scattergeo"
           }
          ],
          "scattergl": [
           {
            "marker": {
             "colorbar": {
              "outlinewidth": 0,
              "ticks": ""
             }
            },
            "type": "scattergl"
           }
          ],
          "scattermapbox": [
           {
            "marker": {
             "colorbar": {
              "outlinewidth": 0,
              "ticks": ""
             }
            },
            "type": "scattermapbox"
           }
          ],
          "scatterpolar": [
           {
            "marker": {
             "colorbar": {
              "outlinewidth": 0,
              "ticks": ""
             }
            },
            "type": "scatterpolar"
           }
          ],
          "scatterpolargl": [
           {
            "marker": {
             "colorbar": {
              "outlinewidth": 0,
              "ticks": ""
             }
            },
            "type": "scatterpolargl"
           }
          ],
          "scatterternary": [
           {
            "marker": {
             "colorbar": {
              "outlinewidth": 0,
              "ticks": ""
             }
            },
            "type": "scatterternary"
           }
          ],
          "surface": [
           {
            "colorbar": {
             "outlinewidth": 0,
             "ticks": ""
            },
            "colorscale": [
             [
              0,
              "#0d0887"
             ],
             [
              0.1111111111111111,
              "#46039f"
             ],
             [
              0.2222222222222222,
              "#7201a8"
             ],
             [
              0.3333333333333333,
              "#9c179e"
             ],
             [
              0.4444444444444444,
              "#bd3786"
             ],
             [
              0.5555555555555556,
              "#d8576b"
             ],
             [
              0.6666666666666666,
              "#ed7953"
             ],
             [
              0.7777777777777778,
              "#fb9f3a"
             ],
             [
              0.8888888888888888,
              "#fdca26"
             ],
             [
              1,
              "#f0f921"
             ]
            ],
            "type": "surface"
           }
          ],
          "table": [
           {
            "cells": {
             "fill": {
              "color": "#EBF0F8"
             },
             "line": {
              "color": "white"
             }
            },
            "header": {
             "fill": {
              "color": "#C8D4E3"
             },
             "line": {
              "color": "white"
             }
            },
            "type": "table"
           }
          ]
         },
         "layout": {
          "annotationdefaults": {
           "arrowcolor": "#2a3f5f",
           "arrowhead": 0,
           "arrowwidth": 1
          },
          "coloraxis": {
           "colorbar": {
            "outlinewidth": 0,
            "ticks": ""
           }
          },
          "colorscale": {
           "diverging": [
            [
             0,
             "#8e0152"
            ],
            [
             0.1,
             "#c51b7d"
            ],
            [
             0.2,
             "#de77ae"
            ],
            [
             0.3,
             "#f1b6da"
            ],
            [
             0.4,
             "#fde0ef"
            ],
            [
             0.5,
             "#f7f7f7"
            ],
            [
             0.6,
             "#e6f5d0"
            ],
            [
             0.7,
             "#b8e186"
            ],
            [
             0.8,
             "#7fbc41"
            ],
            [
             0.9,
             "#4d9221"
            ],
            [
             1,
             "#276419"
            ]
           ],
           "sequential": [
            [
             0,
             "#0d0887"
            ],
            [
             0.1111111111111111,
             "#46039f"
            ],
            [
             0.2222222222222222,
             "#7201a8"
            ],
            [
             0.3333333333333333,
             "#9c179e"
            ],
            [
             0.4444444444444444,
             "#bd3786"
            ],
            [
             0.5555555555555556,
             "#d8576b"
            ],
            [
             0.6666666666666666,
             "#ed7953"
            ],
            [
             0.7777777777777778,
             "#fb9f3a"
            ],
            [
             0.8888888888888888,
             "#fdca26"
            ],
            [
             1,
             "#f0f921"
            ]
           ],
           "sequentialminus": [
            [
             0,
             "#0d0887"
            ],
            [
             0.1111111111111111,
             "#46039f"
            ],
            [
             0.2222222222222222,
             "#7201a8"
            ],
            [
             0.3333333333333333,
             "#9c179e"
            ],
            [
             0.4444444444444444,
             "#bd3786"
            ],
            [
             0.5555555555555556,
             "#d8576b"
            ],
            [
             0.6666666666666666,
             "#ed7953"
            ],
            [
             0.7777777777777778,
             "#fb9f3a"
            ],
            [
             0.8888888888888888,
             "#fdca26"
            ],
            [
             1,
             "#f0f921"
            ]
           ]
          },
          "colorway": [
           "#636efa",
           "#EF553B",
           "#00cc96",
           "#ab63fa",
           "#FFA15A",
           "#19d3f3",
           "#FF6692",
           "#B6E880",
           "#FF97FF",
           "#FECB52"
          ],
          "font": {
           "color": "#2a3f5f"
          },
          "geo": {
           "bgcolor": "white",
           "lakecolor": "white",
           "landcolor": "#E5ECF6",
           "showlakes": true,
           "showland": true,
           "subunitcolor": "white"
          },
          "hoverlabel": {
           "align": "left"
          },
          "hovermode": "closest",
          "mapbox": {
           "style": "light"
          },
          "paper_bgcolor": "white",
          "plot_bgcolor": "#E5ECF6",
          "polar": {
           "angularaxis": {
            "gridcolor": "white",
            "linecolor": "white",
            "ticks": ""
           },
           "bgcolor": "#E5ECF6",
           "radialaxis": {
            "gridcolor": "white",
            "linecolor": "white",
            "ticks": ""
           }
          },
          "scene": {
           "xaxis": {
            "backgroundcolor": "#E5ECF6",
            "gridcolor": "white",
            "gridwidth": 2,
            "linecolor": "white",
            "showbackground": true,
            "ticks": "",
            "zerolinecolor": "white"
           },
           "yaxis": {
            "backgroundcolor": "#E5ECF6",
            "gridcolor": "white",
            "gridwidth": 2,
            "linecolor": "white",
            "showbackground": true,
            "ticks": "",
            "zerolinecolor": "white"
           },
           "zaxis": {
            "backgroundcolor": "#E5ECF6",
            "gridcolor": "white",
            "gridwidth": 2,
            "linecolor": "white",
            "showbackground": true,
            "ticks": "",
            "zerolinecolor": "white"
           }
          },
          "shapedefaults": {
           "line": {
            "color": "#2a3f5f"
           }
          },
          "ternary": {
           "aaxis": {
            "gridcolor": "white",
            "linecolor": "white",
            "ticks": ""
           },
           "baxis": {
            "gridcolor": "white",
            "linecolor": "white",
            "ticks": ""
           },
           "bgcolor": "#E5ECF6",
           "caxis": {
            "gridcolor": "white",
            "linecolor": "white",
            "ticks": ""
           }
          },
          "title": {
           "x": 0.05
          },
          "xaxis": {
           "automargin": true,
           "gridcolor": "white",
           "linecolor": "white",
           "ticks": "",
           "title": {
            "standoff": 15
           },
           "zerolinecolor": "white",
           "zerolinewidth": 2
          },
          "yaxis": {
           "automargin": true,
           "gridcolor": "white",
           "linecolor": "white",
           "ticks": "",
           "title": {
            "standoff": 15
           },
           "zerolinecolor": "white",
           "zerolinewidth": 2
          }
         }
        },
        "title": {
         "text": "Frekvenca simbolov"
        },
        "xaxis": {
         "title": {
          "text": "Simboli"
         }
        },
        "yaxis": {
         "title": {
          "text": "Število pojavitev"
         }
        }
       }
      },
      "text/html": [
       "<div>\n",
       "        \n",
       "        \n",
       "            <div id=\"aa958c80-f9eb-45aa-aa9d-873d75425b57\" class=\"plotly-graph-div\" style=\"height:525px; width:100%;\"></div>\n",
       "            <script type=\"text/javascript\">\n",
       "                require([\"plotly\"], function(Plotly) {\n",
       "                    window.PLOTLYENV=window.PLOTLYENV || {};\n",
       "                    \n",
       "                if (document.getElementById(\"aa958c80-f9eb-45aa-aa9d-873d75425b57\")) {\n",
       "                    Plotly.newPlot(\n",
       "                        'aa958c80-f9eb-45aa-aa9d-873d75425b57',\n",
       "                        [{\"marker\": {\"color\": \"indianred\"}, \"name\": \"Frekvenca simbolov v tajnopisu\", \"type\": \"bar\", \"x\": [\"T\", \"K\", \"\\u0160\", \",\", \"A\", \"H\", \"I\", \"N\", \"-\", \"V\", \"P\", \"D\", \"J\", \"M\", \"C\", \"L\", \"G\", \"\\u017d\", \" \", \"U\", \"O\", \"S\", \"Z\", \"\\u010c\", \"R\", \"B\", \".\", \"F\", \"E\"], \"y\": [0.009561752988047808, 0.018326693227091632, 0.01195219123505976, 0.04302788844621514, 0.03187250996015936, 0.031075697211155377, 0.014342629482071713, 0.004780876494023904, 0.015139442231075698, 0.08685258964143426, 0.0031872509960159364, 0.01752988047808765, 0.04223107569721116, 0.12270916334661354, 0.08924302788844622, 0.006374501992031873, 0.005577689243027889, 0.014342629482071713, 0.009561752988047808, 0.027888446215139442, 0.00796812749003984, 0.015139442231075698, 0.0015936254980079682, 0.0900398406374502, 0.08685258964143426, 0.027888446215139442, 0.07410358565737052, 0.03824701195219123, 0.05258964143426295]}, {\"marker\": {\"color\": \"lightsalmon\"}, \"name\": \"Frekvenca simbolov navadnega teksta\", \"type\": \"bar\", \"x\": [\"T\", \"K\", \"\\u0160\", \"\\n\", \",\", \"A\", \"I\", \"H\", \"N\", \"-\", \"V\", \"P\", \"D\", \"J\", \"M\", \"C\", \"L\", \"G\", \" \", \"U\", \"O\", \"S\", \"Z\", \"R\", \"\\u010c\", \"B\", \".\", \"F\", \"E\"], \"y\": [0.04642857142857143, 0.03571428571428571, 0.008928571428571428, 0.008928571428571428, 0.005357142857142857, 0.08928571428571429, 0.09464285714285714, 0.005357142857142857, 0.05357142857142857, 0.0017857142857142857, 0.017857142857142856, 0.02857142857142857, 0.019642857142857142, 0.05357142857142857, 0.02857142857142857, 0.008928571428571428, 0.02857142857142857, 0.01607142857142857, 0.12321428571428572, 0.014285714285714285, 0.08035714285714286, 0.030357142857142857, 0.01607142857142857, 0.060714285714285714, 0.0125, 0.007142857142857143, 0.010714285714285714, 0.01607142857142857, 0.07678571428571429]}],\n",
       "                        {\"barmode\": \"group\", \"template\": {\"data\": {\"bar\": [{\"error_x\": {\"color\": \"#2a3f5f\"}, \"error_y\": {\"color\": \"#2a3f5f\"}, \"marker\": {\"line\": {\"color\": \"#E5ECF6\", \"width\": 0.5}}, \"type\": \"bar\"}], \"barpolar\": [{\"marker\": {\"line\": {\"color\": \"#E5ECF6\", \"width\": 0.5}}, \"type\": \"barpolar\"}], \"carpet\": [{\"aaxis\": {\"endlinecolor\": \"#2a3f5f\", \"gridcolor\": \"white\", \"linecolor\": \"white\", \"minorgridcolor\": \"white\", \"startlinecolor\": \"#2a3f5f\"}, \"baxis\": {\"endlinecolor\": \"#2a3f5f\", \"gridcolor\": \"white\", \"linecolor\": \"white\", \"minorgridcolor\": \"white\", \"startlinecolor\": \"#2a3f5f\"}, \"type\": \"carpet\"}], \"choropleth\": [{\"colorbar\": {\"outlinewidth\": 0, \"ticks\": \"\"}, \"type\": \"choropleth\"}], \"contour\": [{\"colorbar\": {\"outlinewidth\": 0, \"ticks\": \"\"}, \"colorscale\": [[0.0, \"#0d0887\"], [0.1111111111111111, \"#46039f\"], [0.2222222222222222, \"#7201a8\"], [0.3333333333333333, \"#9c179e\"], [0.4444444444444444, \"#bd3786\"], [0.5555555555555556, \"#d8576b\"], [0.6666666666666666, \"#ed7953\"], [0.7777777777777778, \"#fb9f3a\"], [0.8888888888888888, \"#fdca26\"], [1.0, \"#f0f921\"]], \"type\": \"contour\"}], \"contourcarpet\": [{\"colorbar\": {\"outlinewidth\": 0, \"ticks\": \"\"}, \"type\": \"contourcarpet\"}], \"heatmap\": [{\"colorbar\": {\"outlinewidth\": 0, \"ticks\": \"\"}, \"colorscale\": [[0.0, \"#0d0887\"], [0.1111111111111111, \"#46039f\"], [0.2222222222222222, \"#7201a8\"], [0.3333333333333333, \"#9c179e\"], [0.4444444444444444, \"#bd3786\"], [0.5555555555555556, \"#d8576b\"], [0.6666666666666666, \"#ed7953\"], [0.7777777777777778, \"#fb9f3a\"], [0.8888888888888888, \"#fdca26\"], [1.0, \"#f0f921\"]], \"type\": \"heatmap\"}], \"heatmapgl\": [{\"colorbar\": {\"outlinewidth\": 0, \"ticks\": \"\"}, \"colorscale\": [[0.0, \"#0d0887\"], [0.1111111111111111, \"#46039f\"], [0.2222222222222222, \"#7201a8\"], [0.3333333333333333, \"#9c179e\"], [0.4444444444444444, \"#bd3786\"], [0.5555555555555556, \"#d8576b\"], [0.6666666666666666, \"#ed7953\"], [0.7777777777777778, \"#fb9f3a\"], [0.8888888888888888, \"#fdca26\"], [1.0, \"#f0f921\"]], \"type\": \"heatmapgl\"}], \"histogram\": [{\"marker\": {\"colorbar\": {\"outlinewidth\": 0, \"ticks\": \"\"}}, \"type\": \"histogram\"}], \"histogram2d\": [{\"colorbar\": {\"outlinewidth\": 0, \"ticks\": \"\"}, \"colorscale\": [[0.0, \"#0d0887\"], [0.1111111111111111, \"#46039f\"], [0.2222222222222222, \"#7201a8\"], [0.3333333333333333, \"#9c179e\"], [0.4444444444444444, \"#bd3786\"], [0.5555555555555556, \"#d8576b\"], [0.6666666666666666, \"#ed7953\"], [0.7777777777777778, \"#fb9f3a\"], [0.8888888888888888, \"#fdca26\"], [1.0, \"#f0f921\"]], \"type\": \"histogram2d\"}], \"histogram2dcontour\": [{\"colorbar\": {\"outlinewidth\": 0, \"ticks\": \"\"}, \"colorscale\": [[0.0, \"#0d0887\"], [0.1111111111111111, \"#46039f\"], [0.2222222222222222, \"#7201a8\"], [0.3333333333333333, \"#9c179e\"], [0.4444444444444444, \"#bd3786\"], [0.5555555555555556, \"#d8576b\"], [0.6666666666666666, \"#ed7953\"], [0.7777777777777778, \"#fb9f3a\"], [0.8888888888888888, \"#fdca26\"], [1.0, \"#f0f921\"]], \"type\": \"histogram2dcontour\"}], \"mesh3d\": [{\"colorbar\": {\"outlinewidth\": 0, \"ticks\": \"\"}, \"type\": \"mesh3d\"}], \"parcoords\": [{\"line\": {\"colorbar\": {\"outlinewidth\": 0, \"ticks\": \"\"}}, \"type\": \"parcoords\"}], \"pie\": [{\"automargin\": true, \"type\": \"pie\"}], \"scatter\": [{\"marker\": {\"colorbar\": {\"outlinewidth\": 0, \"ticks\": \"\"}}, \"type\": \"scatter\"}], \"scatter3d\": [{\"line\": {\"colorbar\": {\"outlinewidth\": 0, \"ticks\": \"\"}}, \"marker\": {\"colorbar\": {\"outlinewidth\": 0, \"ticks\": \"\"}}, \"type\": \"scatter3d\"}], \"scattercarpet\": [{\"marker\": {\"colorbar\": {\"outlinewidth\": 0, \"ticks\": \"\"}}, \"type\": \"scattercarpet\"}], \"scattergeo\": [{\"marker\": {\"colorbar\": {\"outlinewidth\": 0, \"ticks\": \"\"}}, \"type\": \"scattergeo\"}], \"scattergl\": [{\"marker\": {\"colorbar\": {\"outlinewidth\": 0, \"ticks\": \"\"}}, \"type\": \"scattergl\"}], \"scattermapbox\": [{\"marker\": {\"colorbar\": {\"outlinewidth\": 0, \"ticks\": \"\"}}, \"type\": \"scattermapbox\"}], \"scatterpolar\": [{\"marker\": {\"colorbar\": {\"outlinewidth\": 0, \"ticks\": \"\"}}, \"type\": \"scatterpolar\"}], \"scatterpolargl\": [{\"marker\": {\"colorbar\": {\"outlinewidth\": 0, \"ticks\": \"\"}}, \"type\": \"scatterpolargl\"}], \"scatterternary\": [{\"marker\": {\"colorbar\": {\"outlinewidth\": 0, \"ticks\": \"\"}}, \"type\": \"scatterternary\"}], \"surface\": [{\"colorbar\": {\"outlinewidth\": 0, \"ticks\": \"\"}, \"colorscale\": [[0.0, \"#0d0887\"], [0.1111111111111111, \"#46039f\"], [0.2222222222222222, \"#7201a8\"], [0.3333333333333333, \"#9c179e\"], [0.4444444444444444, \"#bd3786\"], [0.5555555555555556, \"#d8576b\"], [0.6666666666666666, \"#ed7953\"], [0.7777777777777778, \"#fb9f3a\"], [0.8888888888888888, \"#fdca26\"], [1.0, \"#f0f921\"]], \"type\": \"surface\"}], \"table\": [{\"cells\": {\"fill\": {\"color\": \"#EBF0F8\"}, \"line\": {\"color\": \"white\"}}, \"header\": {\"fill\": {\"color\": \"#C8D4E3\"}, \"line\": {\"color\": \"white\"}}, \"type\": \"table\"}]}, \"layout\": {\"annotationdefaults\": {\"arrowcolor\": \"#2a3f5f\", \"arrowhead\": 0, \"arrowwidth\": 1}, \"coloraxis\": {\"colorbar\": {\"outlinewidth\": 0, \"ticks\": \"\"}}, \"colorscale\": {\"diverging\": [[0, \"#8e0152\"], [0.1, \"#c51b7d\"], [0.2, \"#de77ae\"], [0.3, \"#f1b6da\"], [0.4, \"#fde0ef\"], [0.5, \"#f7f7f7\"], [0.6, \"#e6f5d0\"], [0.7, \"#b8e186\"], [0.8, \"#7fbc41\"], [0.9, \"#4d9221\"], [1, \"#276419\"]], \"sequential\": [[0.0, \"#0d0887\"], [0.1111111111111111, \"#46039f\"], [0.2222222222222222, \"#7201a8\"], [0.3333333333333333, \"#9c179e\"], [0.4444444444444444, \"#bd3786\"], [0.5555555555555556, \"#d8576b\"], [0.6666666666666666, \"#ed7953\"], [0.7777777777777778, \"#fb9f3a\"], [0.8888888888888888, \"#fdca26\"], [1.0, \"#f0f921\"]], \"sequentialminus\": [[0.0, \"#0d0887\"], [0.1111111111111111, \"#46039f\"], [0.2222222222222222, \"#7201a8\"], [0.3333333333333333, \"#9c179e\"], [0.4444444444444444, \"#bd3786\"], [0.5555555555555556, \"#d8576b\"], [0.6666666666666666, \"#ed7953\"], [0.7777777777777778, \"#fb9f3a\"], [0.8888888888888888, \"#fdca26\"], [1.0, \"#f0f921\"]]}, \"colorway\": [\"#636efa\", \"#EF553B\", \"#00cc96\", \"#ab63fa\", \"#FFA15A\", \"#19d3f3\", \"#FF6692\", \"#B6E880\", \"#FF97FF\", \"#FECB52\"], \"font\": {\"color\": \"#2a3f5f\"}, \"geo\": {\"bgcolor\": \"white\", \"lakecolor\": \"white\", \"landcolor\": \"#E5ECF6\", \"showlakes\": true, \"showland\": true, \"subunitcolor\": \"white\"}, \"hoverlabel\": {\"align\": \"left\"}, \"hovermode\": \"closest\", \"mapbox\": {\"style\": \"light\"}, \"paper_bgcolor\": \"white\", \"plot_bgcolor\": \"#E5ECF6\", \"polar\": {\"angularaxis\": {\"gridcolor\": \"white\", \"linecolor\": \"white\", \"ticks\": \"\"}, \"bgcolor\": \"#E5ECF6\", \"radialaxis\": {\"gridcolor\": \"white\", \"linecolor\": \"white\", \"ticks\": \"\"}}, \"scene\": {\"xaxis\": {\"backgroundcolor\": \"#E5ECF6\", \"gridcolor\": \"white\", \"gridwidth\": 2, \"linecolor\": \"white\", \"showbackground\": true, \"ticks\": \"\", \"zerolinecolor\": \"white\"}, \"yaxis\": {\"backgroundcolor\": \"#E5ECF6\", \"gridcolor\": \"white\", \"gridwidth\": 2, \"linecolor\": \"white\", \"showbackground\": true, \"ticks\": \"\", \"zerolinecolor\": \"white\"}, \"zaxis\": {\"backgroundcolor\": \"#E5ECF6\", \"gridcolor\": \"white\", \"gridwidth\": 2, \"linecolor\": \"white\", \"showbackground\": true, \"ticks\": \"\", \"zerolinecolor\": \"white\"}}, \"shapedefaults\": {\"line\": {\"color\": \"#2a3f5f\"}}, \"ternary\": {\"aaxis\": {\"gridcolor\": \"white\", \"linecolor\": \"white\", \"ticks\": \"\"}, \"baxis\": {\"gridcolor\": \"white\", \"linecolor\": \"white\", \"ticks\": \"\"}, \"bgcolor\": \"#E5ECF6\", \"caxis\": {\"gridcolor\": \"white\", \"linecolor\": \"white\", \"ticks\": \"\"}}, \"title\": {\"x\": 0.05}, \"xaxis\": {\"automargin\": true, \"gridcolor\": \"white\", \"linecolor\": \"white\", \"ticks\": \"\", \"title\": {\"standoff\": 15}, \"zerolinecolor\": \"white\", \"zerolinewidth\": 2}, \"yaxis\": {\"automargin\": true, \"gridcolor\": \"white\", \"linecolor\": \"white\", \"ticks\": \"\", \"title\": {\"standoff\": 15}, \"zerolinecolor\": \"white\", \"zerolinewidth\": 2}}}, \"title\": {\"text\": \"Frekvenca simbolov\"}, \"xaxis\": {\"title\": {\"text\": \"Simboli\"}}, \"yaxis\": {\"title\": {\"text\": \"\\u0160tevilo pojavitev\"}}},\n",
       "                        {\"responsive\": true}\n",
       "                    ).then(function(){\n",
       "                            \n",
       "var gd = document.getElementById('aa958c80-f9eb-45aa-aa9d-873d75425b57');\n",
       "var x = new MutationObserver(function (mutations, observer) {{\n",
       "        var display = window.getComputedStyle(gd).display;\n",
       "        if (!display || display === 'none') {{\n",
       "            console.log([gd, 'removed!']);\n",
       "            Plotly.purge(gd);\n",
       "            observer.disconnect();\n",
       "        }}\n",
       "}});\n",
       "\n",
       "// Listen for the removal of the full notebook cells\n",
       "var notebookContainer = gd.closest('#notebook-container');\n",
       "if (notebookContainer) {{\n",
       "    x.observe(notebookContainer, {childList: true});\n",
       "}}\n",
       "\n",
       "// Listen for the clearing of the current output cell\n",
       "var outputEl = gd.closest('.output');\n",
       "if (outputEl) {{\n",
       "    x.observe(outputEl, {childList: true});\n",
       "}}\n",
       "\n",
       "                        })\n",
       "                };\n",
       "                });\n",
       "            </script>\n",
       "        </div>"
      ]
     },
     "metadata": {},
     "output_type": "display_data"
    }
   ],
   "source": [
    "y_t1 = [i/len(tajnopis) for i in y_t]\n",
    "y1 = [i/len(besedilo) for i in y]\n",
    "\n",
    "import plotly.graph_objects as go\n",
    "\n",
    "\n",
    "fig = go.Figure()\n",
    "\n",
    "\n",
    "fig.add_trace(go.Bar(\n",
    "    x = x_t,\n",
    "    y = y_t1,\n",
    "    name = 'Frekvenca simbolov v tajnopisu',\n",
    "    marker_color = 'indianred',\n",
    "))\n",
    "\n",
    "fig.add_trace(go.Bar(\n",
    "    x = x,\n",
    "    y = y1,\n",
    "    name = 'Frekvenca simbolov navadnega teksta',\n",
    "    marker_color = 'lightsalmon',\n",
    "))\n",
    "\n",
    "fig.update_layout(title='Frekvenca simbolov',\n",
    "                   xaxis_title='Simboli',\n",
    "                   yaxis_title='Število pojavitev') \n",
    "fig.update_layout(barmode='group')\n",
    "fig.show()"
   ]
  },
  {
   "cell_type": "markdown",
   "metadata": {},
   "source": [
    "#### Naloga 0:\n",
    "\n",
    "Dešifriraj spodnji tajnopis s pomočjo frekvenčne analize. Uporabi zgornje grafe, ki ti bodo povedali katere črke se najpogosteje pojavljajo v slovenskih besedilih in katere v našem tajnopisu.\n",
    "Potem v lahko s pomočjo spreminjanja in dodajanja črk v spremeljivko `kljuc` postopoma dešifriraš besedilo. Tako na primer, če ugotoviš da se A preslika v T pri črki A v `kljuc` namesto _ napišeš T."
   ]
  },
  {
   "cell_type": "code",
   "execution_count": 119,
   "metadata": {},
   "outputs": [
    {
     "name": "stdout",
     "output_type": "stream",
     "text": [
      "_________ ______________________ ________ _ ____ __ ________ _______ ______________________ _______ __________ __ ___________ _________ __________ __ ________ ______ __________ ___ _____ ________ ______ ____ _________ ___ _______ ___________ _________ __ ___________ __________ __ ____________ ________ _______ _____________ __________ _________ ____ __ ___________ ____ ______________ _______ _________ ________ __________ __ ____________ _________ ______ ___________ _ _______ _________ ______ ___ ____________ ______ _______ ___ ______ _____ ________ ________ __________ _________ ________ __ __ _______ _______ _____ ________ ________ _____ ____ ___ ________ ____________ _____ __ _________ ____ _______ ___ _________ _____________ __ ___ ____ ________ ________ __________ ___ __ __________ _______ ________ _______________________ _____ _ _____________ ________ ______ ________ __ ________ _ ___________ _______ __ _________ _______ _ ______ _____ ________ _____ _______ ________ ______________ __ ___________ _____ ___ _____________ _____________ ____________ _____ ________ _______ _________ _____ __ __ ______ _________ _ _________ ______ ___________ __________ ________ ______________ _______ ___ _ ______ __ __________ _______ ___________ ______\n",
      "\n",
      "FAČJVCF-RMČSJVGTVJRACČPJRECČFHCRMRŽVCŠ.,RMPMFČJRM,VMČFEVUC,RMŠ.J.ACRMČSJVGTVJRACČPJRECČFHCRMFAILSROMČSA.-ČJRCRMDČMBVUCREČUCVBMDE.KCRC,IMFRBČFHČ,CVM.CMFIJVEVCVMUELRJVMFAČJVC.,VNMBVUMC,VCVMHVBVA,CVMCRAČŽVMFČU.MUVAČJRC,VMDE.MKRGT.H.MCRŠ.ČCRAC. M.CHVEVFČJMCRMJRECČFHCVBOMDČA.H.TCVBM.CMŽČFDČUREF-VBMDČUEČT,IMČK.EČBRMKRŽČHRJA,RC,VMCRŠ.ČCRACVMJRECČFH.NMHVBIM,VMDE.ARŽČ,VCRMHIU.MČEŽRC.KRŠ.,F-RMFVFHRJRMRŽVCŠ.,VNMDČUEČT,VMUV,RJCČFH.M.CMDE.FHČ,CČFH.MRŽVCŠ.,VOMČSA.-VMFČUVAČJRC,RMKMUEIŽ.B.MUELRJC.B.MČEŽRC.MHVEMIJVA,RJA,VCVMČSA.-VMCRUKČERMCRUMC,VC.BMUVAČBMŠVAČJ.HČMKRČ-EČL.MCRŠ.ČCRACČMJRECČFHC.MDEČŽERBOM-.MŽRMFDEV,BVMUELRJC.MKSČENMRŽVCŠ.,RMČDERJA,RMFJČ,VMUVAČMDČUMCRUKČEČBMKR-ČCČUR,CVOMFČUCVM.CM.KJEG.ACVMJV,VMČSARFH.MHVEM,RJCČFH.OMJKDČFHRJA,VCVMDRM.BRMHIU.MCČHERC,VMCRUKČECVMBV RC.KBVOM-REM,VMKCRT.ACČFHMFČUČSCČMIEV,VC. MJRECČFHCČPČSJVGTVJRAC. MFAILSMJMUVBČ-ERH.TC. MUELRJR NMERKJČ,MRŽVCŠ.,VM,VMIFBVE,VCMJMČSA.-ČJRC,VMBČUVECVM.CMU.CRB.TCVMFAILSVOMJM-RHVE.M.BR,ČMDČBVBSCČMJAČŽČMIDČERSRMFČUČSC. M.CZČEBRŠ.,F-. M.CMRCRA.H.TC. MBVHČUMHVEMCR,FČUČSCV,GVM.CZČEBRŠ.,F-VMHV CČAČŽ.,VOMC,VC.MERKJČ,C.MČK.EČBRMFHERHVG-.MŠ.A,.MDRMFČMČSVCVBMIFBVE,VC.MJMFHEČ-ČJC.MERKJČ,MKRDČFAVC. OMERKJ.,RC,VMDE.BVECVMČEŽRC.KRŠ.,F-VM-IAHIEVMHVEMJMJRETCČM.CMŽČFDČURECČMIDČERSČMBRHVE.RAC. MJ.EČJN\n"
     ]
    }
   ],
   "source": [
    "kljuc = {'A': '_', 'B': '_', 'C':'_', 'Č':'_', 'D':'_', 'E':'_',\n",
    "         'F':'_', 'G':'_', 'H':'_', 'I':'_', 'J':'_', 'K':'_', \n",
    "         'L':'_', 'M':' ', 'N':'_', 'O':'_', 'P':'_', 'R':'_', \n",
    "         'S':'_', 'Š':'_', 'T':'_', 'U':'_', 'V':'_', 'Z':'_', \n",
    "         'Ž':'_', ' ': '_', '.':'_', ',':'_', '-':'_'}\n",
    "\n",
    "cistopis = ''\n",
    "for crka in tajnopis:\n",
    "    cistopis += kljuc[crka]\n",
    "    \n",
    "print(cistopis)\n",
    "\n",
    "print('\\n'+tajnopis)\n",
    "    "
   ]
  },
  {
   "cell_type": "markdown",
   "metadata": {},
   "source": [
    "#### Naloga 1:\n",
    "\n",
    "Za kakšna besedila je primerna frekvenčna analiza? Lahko dešifriramo kratka sporočila ali je bolj primerna za daljša? Zakaj? Ali lahko dešifriramo tajnopis, ki je napisan v poljubnem jeziku? Kako jezik vpliva na dešifriranje? Kaj so njene prednosti v primerjavi z izčrpnim iskanjem ključev? Bi lahko s frekvenčno analizo dekodirali tudi kakšne druge šifre? Kakšne?"
   ]
  },
  {
   "cell_type": "markdown",
   "metadata": {},
   "source": [
    "###Multiplikativno šifriranje\n",
    "\n",
    "Šifriranje in dešifriranje\n",
    "\n",
    "Note − The advantage with a multiplicative cipher is that it can work with very large keys like 8,953,851. It would take quite a long time for a computer to brute-force through a majority of nine million keys."
   ]
  },
  {
   "cell_type": "code",
   "execution_count": 12,
   "metadata": {},
   "outputs": [
    {
     "name": "stdout",
     "output_type": "stream",
     "text": [
      "Tajnopis: L\t`fC`.C%C<_t\tB\n",
      "Čistopis: abcd\n"
     ]
    }
   ],
   "source": [
    "DIE = 128 #tevilo simbolov\n",
    "kljuc = 7\n",
    "kljuc_inv = 55\n",
    "\n",
    "def sifriraj_simbol_mul(simbol):\n",
    "    return chr((kljuc * ord(simbol)) % DIE)\n",
    "\n",
    "def mult_sifriraj(cistopis):\n",
    "    return \"\".join(map(sifriraj_simbol_mul, cistopis))\n",
    "\n",
    "def desifriraj_simbol_mul(simbol):\n",
    "    return chr(kljuc_inv * (ord(simbol)) % DIE)\n",
    "   \n",
    "def mult_desifriraj(tajnopis):\n",
    "    return \"\".join(map(desifriraj_simbol_mul, tajnopis))\n",
    "\n",
    "def inverzni_kljuc(kljuc):\n",
    "    for d in range(1, DIE):\n",
    "        r = (d * kljuc) % DIE\n",
    "        if r == 1:\n",
    "            break\n",
    "    if d == 127:\n",
    "        print('Ta ključ nima inverza.')\n",
    "        return None\n",
    "    return d\n",
    "\n",
    "\n",
    "print('Tajnopis: ' + mult_sifriraj('To je besedilo.'))\n",
    "print('Čistopis: ' + mult_desifriraj('\\'.5<'))\n",
    "\n"
   ]
  },
  {
   "cell_type": "markdown",
   "metadata": {},
   "source": [
    "#### Naloga 0:\n",
    "\n",
    "Koliko je vseh možnih ključev pri afini šifri? Je lahko poljubno število ključ? Kakšno lastnost mora imeti število, da je lahko ključ?\n",
    "\n",
    "Namig: Pomagaj si s fukcijo `inverzni_kljuc`. Naj ti izpiše vsa števila od 0 do 128, ki imajo inverzni ključ.\n",
    "\n",
    "#### Naloga 1:\n",
    "\n",
    "Besedilo smo zašifrirali s ključem 33 in dobili tajnopis 'i.6\u00052:.\t Kl*\u0015C *\u0005 Y\u0017n'. Dešifriraj tajnopis.\n",
    "\n",
    "Namig: S pomočjo funkcije inverzni_kljuc(ključ) lahko ugotoviš, kaj je inverzni ključ.\n",
    "\n",
    "\n",
    "\n",
    "#### Naloga 2:\n",
    "\n",
    "Dešifriraj tajnopis ' \\'a\u0017d\u0015d-I< 1\u00170a|c d\u0015 ba \u0014a\u0017\u0015.J\u0015J-d\u0015 d-b\u0016c0\u0015\u0017m'. Tokrat ključa ne poznaš, tako da tudi inverznega ključa ne moreš izračunati.\n",
    "\n",
    "Namig: Uporabi pristop izčrpnega iskanja ključev, ki smo ga spoznali pri Cezarjevi šifri.\n"
   ]
  },
  {
   "cell_type": "markdown",
   "metadata": {},
   "source": [
    "## Afina šifra\n",
    "\n",
    "To je kombinacija cezarjeve in multiplikativne šifre."
   ]
  },
  {
   "cell_type": "code",
   "execution_count": 19,
   "metadata": {},
   "outputs": [
    {
     "name": "stdout",
     "output_type": "stream",
     "text": [
      "(\u000fa\u00174@\u0017@\u000f8<].0\u0013a\u0013r\u0017z]||\n",
      "2U2U2U\n"
     ]
    }
   ],
   "source": [
    "DIE = 128 #stevilo simbolov\n",
    "KLJUC = (33, 14, 55) # (kljuc za multiplikacijo, kljuc za cezarja, inv. kljuc za multiplikacijo)\n",
    "   \n",
    "def sifriraj_simbol(simbol):\n",
    "    K1, K2, KI = KLJUC\n",
    "    return chr((K1 * ord(simbol) + K2) % DIE)\n",
    "\n",
    "def afina_sifriraj(cistopis):\n",
    "    return \"\".join(map(sifriraj_simbol, cistopis))\n",
    "   \n",
    "def desifriraj_simbol(simbol):\n",
    "    K1, K2, KI = KLJUC\n",
    "    return chr(KI * (ord(simbol) - K2) % DIE)\n",
    "   \n",
    "def afina_desifriraj(tajnopis):\n",
    "    return \"\".join(map(desifriraj_simbol, tajnopis))\n",
    "\n",
    "\n",
    "        \n",
    "print(afina_sifriraj('Zasifrirajno besedilo..'))\n",
    "print(afina_desifriraj('lalala'))\n",
    "\n"
   ]
  },
  {
   "cell_type": "markdown",
   "metadata": {},
   "source": [
    "#### Naloga 0:\n",
    "Koliko je vseh možnih ključev za afino šifro? Najprej razmisli koliko je možnosti za prvi in koliko za drugi ključ. Spomni se, da je potem možna poljubna kombinacija prvega in drugega ključa.\n",
    "\n",
    "#### Naloga 1:\n",
    "Kako bi pa zgledal naivni napad z izčrpnim iskanjem ključev na afino šifro?\n",
    "\n",
    "Idejno opiši ali sprogramiraj, kako bi zgledal naivni način dešifriranja afine šifre.\n",
    "Če ti je uspelo napisati program, dešifriraj naslednji tajnopis: 'UV$Z7CZCR? 13V$VuZ} '.\n",
    "\n",
    "Namig: Če ti ni uspelo dešifrirati tajnopisa, si pomagaj z informacijo, da je ključ oblike `KLJUC = (x, 17, y)`.\n",
    "\n",
    "#### Naloga 2: \n",
    "Bi se afine šifre lahko lotili s frekvenčno analizo? Bi se s frekvenčno analizo lahko lotil še katere od šifer, ki smo jih spoznali danes? Katerih? Katerih šifer pa se ne bi moglli lotiti na tak način?"
   ]
  },
  {
   "cell_type": "code",
   "execution_count": null,
   "metadata": {},
   "outputs": [],
   "source": []
  }
 ],
 "metadata": {
  "kernelspec": {
   "display_name": "Python 3",
   "language": "python",
   "name": "python3"
  },
  "language_info": {
   "codemirror_mode": {
    "name": "ipython",
    "version": 3
   },
   "file_extension": ".py",
   "mimetype": "text/x-python",
   "name": "python",
   "nbconvert_exporter": "python",
   "pygments_lexer": "ipython3",
   "version": "3.7.0"
  }
 },
 "nbformat": 4,
 "nbformat_minor": 2
}
