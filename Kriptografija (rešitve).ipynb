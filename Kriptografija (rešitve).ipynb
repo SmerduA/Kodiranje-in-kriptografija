{
 "cells": [
  {
   "cell_type": "markdown",
   "metadata": {},
   "source": [
    "# Rešitve"
   ]
  },
  {
   "cell_type": "markdown",
   "metadata": {},
   "source": [
    "## Cezarjeva šifra\n",
    "\n",
    "#### Naloga 0:\n",
    "Ja, lahko, saj v kodi poskrbimo, da se male črke spremenijo v velike tiskane.\n",
    "Če bi želeli, da so v tajnopisu tudi male tiskane črke, bi morali v `abecedo` dodati še  male tiskane črke.\n",
    "\n",
    "#### Naloga 1:\n",
    "Ne, števil z zgornjo funkcijo ne moremo zašifrirati. Če bi v `abeceda` dodali še števke, bi jih lahko zašifrirali.\n",
    "\n",
    "#### Naloga 2:\n"
   ]
  },
  {
   "cell_type": "code",
   "execution_count": null,
   "metadata": {},
   "outputs": [],
   "source": [
    "abeceda2 = 'ABCČDEFGHIJKLMNOPRSŠTUVZŽ .,-0123456789'\n",
    "def cezar_sifriranje_2(cistopis, kljuc):\n",
    "    sifrant = ''\n",
    "    for i in cistopis:\n",
    "        ind = (abeceda2.index(i.upper())+kljuc)%len(abeceda2)\n",
    "        sifrant+= abeceda2[ind]\n",
    "    return sifrant"
   ]
  },
  {
   "cell_type": "markdown",
   "metadata": {},
   "source": [
    "#### Naloga 3:\n",
    "\n",
    "Toliko, kot imamo simbolov v naši abecedi."
   ]
  },
  {
   "cell_type": "markdown",
   "metadata": {},
   "source": [
    "### Pristop z izčrpnim iskanjem ključev\n",
    "\n",
    "#### Naloga 0:\n",
    "\n",
    "Čistopis je 'BESEDILO, KI GA BOMO DEŠIFRIRALI NA NAIVEN NAČIN.', ključ pa je 8.\n",
    "\n",
    "#### Naloga 1:\n",
    "\n",
    "(rešitve povemo sproti)."
   ]
  },
  {
   "cell_type": "markdown",
   "metadata": {},
   "source": [
    "### Dešifriranje s frekvenčno analizo\n",
    "\n",
    "#### Naloga 0:\n",
    "\n",
    "Čistopis: 'Slovenska obveščevalno-varnostna agencija - SOVA je osrednja civilna obveščevalno-varnostna služba, oblikovana po mednarodnem priznanju samostojne in suverene države Slovenije. Med njene temeljne naloge sodi delovanje pri zaščiti nacionalnih interesov na varnostnem, političnem in gospodarskem področju oziroma zagotavljanje nacionalne varnosti. Temu je prilagojena tudi organizacijska sestava agencije. Področje dejavnosti in pristojnosti agencije, oblike sodelovanja z drugimi državnimi organi ter uveljavljene oblike nadzora nad njenim delom celovito zaokroži nacionalno varnostni program, ki ga sprejme državni zbor. Agencija opravlja svoje delo pod nadzorom zakonodajne, sodne in izvršilne veje oblasti ter javnosti, vzpostavljene pa ima tudi notranje nadzorne mehanizme, kar je značilnost sodobno urejenih varnostno-obveščevalnih služb v demokratičnih državah. Razvoj agencije je usmerjen v oblikovanje moderne in dinamične službe, v kateri imajo pomembno vlogo uporaba sodobnih informacijskih in analitičnih metod ter najsodobnejše informacijske tehnologije, njeni razvojni oziroma strateški cilji pa so obenem usmerjeni v strokovni razvoj zaposlenih, razvijanje primerne organizacijske kulture ter v varčno in gospodarno uporabo materialnih virov.'\n",
    "\n",
    "#### Naloga 1:\n",
    "Dešifriranje js frekvenčno analizo je primerno za daljša besedila, kjer je statistika pojavitev simbolov bolj točna. Pri kratkih besedilih npr. 'ČMRLJ', kjer ni samoglasnikov in se vsak simbol pojavi le enkrat frekvenčna analiza ne deluje.\n",
    "Lahko dešifriramo tajnopise v poljubnih jezikih, vendar moramo vzeti v poštev, da so frekvence simbolov in digramov v rezličnih jezikih različne. Frekvenčna analiza je predvsem uporabna, če imamo šifro z velikim številom možnih ključev in bi za naiven pristop računalnik porabil veliko časa.\n",
    "\n",
    "S frekvenčno analizo bi lahko npr. dešifrirali tudi šifro, ki med seboj pomeša znake (ne le zamakne)."
   ]
  },
  {
   "cell_type": "markdown",
   "metadata": {},
   "source": [
    "## Multiplikativno šifriranje\n",
    "\n",
    "#### Naloga 0:\n",
    "Toliko, kot je 'inverznih elementov'. Ključ so lahko samo tista števila, ki imajo inverzni element, drugače tajnopisa ne moremo enolično dešifrirati.\n",
    "\n",
    "#### Naloga 1:\n",
    " 'Inverzni kljuc je 97'"
   ]
  },
  {
   "cell_type": "code",
   "execution_count": null,
   "metadata": {},
   "outputs": [],
   "source": [
    "kljuc_inv = inverzni_kljuc(33)   \n",
    "print(mult_desifriraj(' i.6\u00052:.\t Kl*\u0015C *\u0005 Y\u0017n'))"
   ]
  },
  {
   "cell_type": "markdown",
   "metadata": {},
   "source": [
    "#### Naloga 2:\n",
    "\n",
    "Čistopis je 'Cestitam, uspelo ti je desifrirati tajnopis!', ključ pa 5."
   ]
  },
  {
   "cell_type": "code",
   "execution_count": null,
   "metadata": {},
   "outputs": [],
   "source": [
    "for kljuc_inv in range(128):\n",
    "    odsifrirano = mult_desifriraj(' \\'a\u0017d\u0015d-I< 1\u00170a|c d\u0015 ba \u0014a\u0017\u0015.J\u0015J-d\u0015 d-b\u0016c0\u0015\u0017m')\n",
    "    print('Ključ je #%s: %s' % (kljuc_inv, odsifrirano))"
   ]
  },
  {
   "cell_type": "markdown",
   "metadata": {},
   "source": [
    "### Afina šifra:\n",
    "\n",
    "#### Naloga 0:\n",
    "\n",
    "Število ključev za multiplikativno šifro = 36\n",
    "\n",
    "Število ključev za modificirano cezarjevo šifro = 128\n",
    "\n",
    "36*128 = 4608\n",
    "\n",
    "#### Naloga 1:\n",
    "KLJUC = (97, 17, inverzni_kljuc(97))\n",
    "cistopis = Desifrirano besedilo"
   ]
  },
  {
   "cell_type": "code",
   "execution_count": 1,
   "metadata": {},
   "outputs": [
    {
     "data": {
      "text/plain": [
       "4608"
      ]
     },
     "execution_count": 1,
     "metadata": {},
     "output_type": "execute_result"
    }
   ],
   "source": [
    "tajnopis = 'UV$Z7CZCR? 13V$VuZ} '\n",
    "kljuci_mult = []\n",
    "for i in range(128):\n",
    "    inv = inverzni_kljuc(i)\n",
    "    if inv != None:\n",
    "        kljuci_mult+= [inv]\n",
    "        \n",
    "for kljuc_cezar in range(128):\n",
    "    for kljuc_mult in kljuci_mult:\n",
    "        kljuc_inv = inverzni_kljuc(kljuc_mult)\n",
    "        KLJUC = (kljuc_mult, kljuc_cezar, kljuc_inv)\n",
    "        cistopis = afina_desifriraj(tajnopis)\n",
    "        print(f'Kljuc je {KLJUC}: {cistopis}')\n"
   ]
  },
  {
   "cell_type": "markdown",
   "metadata": {},
   "source": [
    "#### Naloga 2:\n",
    "Ja, lahko. Verjetno bi bilo lažje, kot naivni način, če imamo daljše besedilo. Uporabili pa bi jo lahko za vse šifre, ki smo jih soznali danes, saj gre pri vseh za permutacijo simbolov. Na ta načn se ne moremo lotiti šifer, ki npr. izpuščajo samoglasnike, skčijo besedilo (hash funkcije), in tudi bločn šifre (take, ki za vsak simbol uporabijo drug ključ). Na sploh take šifre, ki določenega simbola ne preslikajo zmeraj v isti simbol."
   ]
  }
 ],
 "metadata": {
  "kernelspec": {
   "display_name": "Python 3",
   "language": "python",
   "name": "python3"
  },
  "language_info": {
   "codemirror_mode": {
    "name": "ipython",
    "version": 3
   },
   "file_extension": ".py",
   "mimetype": "text/x-python",
   "name": "python",
   "nbconvert_exporter": "python",
   "pygments_lexer": "ipython3",
   "version": "3.7.0"
  }
 },
 "nbformat": 4,
 "nbformat_minor": 2
}
